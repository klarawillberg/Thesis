{
  "cells": [
    {
      "cell_type": "markdown",
      "metadata": {
        "id": "5e25ea09-74d6-47e6-bad6-e922f52c3532"
      },
      "source": [
        "# Personal Information\n",
        "Name: **Klara Willberg**\n",
        "\n",
        "StudentID: **12682586**\n",
        "\n",
        "Email: [**klara.willberg@student.uva.nl**](youremail@student.uva.nl)\n"
      ],
      "id": "5e25ea09-74d6-47e6-bad6-e922f52c3532"
    },
    {
      "cell_type": "markdown",
      "metadata": {
        "id": "e3cf6243-adfe-4eb8-bba3-bb2835079abd"
      },
      "source": [
        "# Data Context\n",
        "\n",
        "The \"data\" that is being explored in this thesis project is the BioBERT language model. The BioBERT language model is a fine-tuned verision of BERT that was specifically trained on biomedical corpora such as PMc (PubMed Central) full-text documents and PubMed abstracts to enhance ints understanding of biomedical text. This thesis project intends to evaluate the word embeddings of genes within the BioBERT model, and assess to what extent relatedness and similarities between genes can be inferred from biomedical text."
      ],
      "id": "e3cf6243-adfe-4eb8-bba3-bb2835079abd"
    },
    {
      "cell_type": "markdown",
      "metadata": {
        "id": "a833d964-56e1-49c7-8172-7435357624aa"
      },
      "source": [
        "# Data Description\n",
        "\n",
        "Below you can find the code for the EDA of BioBERT. This EDA includes exploring how words are tokenized by the BioBERT tokenizer, the distribution of token lengths and the distribution of subword lengths. Moreover, I explore the proportion of subwords compared to the whole BioBERT vocabulary."
      ],
      "id": "a833d964-56e1-49c7-8172-7435357624aa"
    },
    {
      "cell_type": "code",
      "execution_count": null,
      "metadata": {
        "id": "534317db-d881-4e33-a358-754e2881e8bd"
      },
      "outputs": [],
      "source": [
        "# Imports\n",
        "import os\n",
        "import numpy as np\n",
        "import pandas as pd\n",
        "from transformers import AutoTokenizer, AutoModel\n",
        "import torch\n",
        "from scipy.spatial.distance import cosine\n",
        "from transformers import BertTokenizer, BertModel"
      ],
      "id": "534317db-d881-4e33-a358-754e2881e8bd"
    },
    {
      "cell_type": "markdown",
      "metadata": {
        "id": "b582b299-f599-4140-a454-bcbfdeeb273f"
      },
      "source": [
        "### Data Loading"
      ],
      "id": "b582b299-f599-4140-a454-bcbfdeeb273f"
    },
    {
      "cell_type": "code",
      "execution_count": null,
      "metadata": {
        "id": "9f0cf9be-2cac-4227-957f-ad893212e70c"
      },
      "outputs": [],
      "source": [
        "# !pip install pytorch-pretrained-bert"
      ],
      "id": "9f0cf9be-2cac-4227-957f-ad893212e70c"
    },
    {
      "cell_type": "code",
      "execution_count": null,
      "metadata": {
        "colab": {
          "base_uri": "https://localhost:8080/"
        },
        "id": "zIqrUZII39sQ",
        "outputId": "e43b6d58-d586-4115-dc56-3740e1ceee86"
      },
      "outputs": [
        {
          "output_type": "stream",
          "name": "stdout",
          "text": [
            "Looking in indexes: https://pypi.org/simple, https://us-python.pkg.dev/colab-wheels/public/simple/\n",
            "Requirement already satisfied: torch in /usr/local/lib/python3.10/dist-packages (2.0.1+cu118)\n",
            "Requirement already satisfied: filelock in /usr/local/lib/python3.10/dist-packages (from torch) (3.12.0)\n",
            "Requirement already satisfied: typing-extensions in /usr/local/lib/python3.10/dist-packages (from torch) (4.5.0)\n",
            "Requirement already satisfied: sympy in /usr/local/lib/python3.10/dist-packages (from torch) (1.11.1)\n",
            "Requirement already satisfied: networkx in /usr/local/lib/python3.10/dist-packages (from torch) (3.1)\n",
            "Requirement already satisfied: jinja2 in /usr/local/lib/python3.10/dist-packages (from torch) (3.1.2)\n",
            "Requirement already satisfied: triton==2.0.0 in /usr/local/lib/python3.10/dist-packages (from torch) (2.0.0)\n",
            "Requirement already satisfied: cmake in /usr/local/lib/python3.10/dist-packages (from triton==2.0.0->torch) (3.25.2)\n",
            "Requirement already satisfied: lit in /usr/local/lib/python3.10/dist-packages (from triton==2.0.0->torch) (16.0.5)\n",
            "Requirement already satisfied: MarkupSafe>=2.0 in /usr/local/lib/python3.10/dist-packages (from jinja2->torch) (2.1.2)\n",
            "Requirement already satisfied: mpmath>=0.19 in /usr/local/lib/python3.10/dist-packages (from sympy->torch) (1.3.0)\n"
          ]
        }
      ],
      "source": [
        "pip install torch"
      ],
      "id": "zIqrUZII39sQ"
    },
    {
      "cell_type": "code",
      "execution_count": null,
      "metadata": {
        "colab": {
          "base_uri": "https://localhost:8080/"
        },
        "id": "M1pz8zzV4Qj_",
        "outputId": "8cdacf74-2e7d-4b25-f981-87b54cc3ccff"
      },
      "outputs": [
        {
          "output_type": "stream",
          "name": "stdout",
          "text": [
            "Looking in indexes: https://pypi.org/simple, https://us-python.pkg.dev/colab-wheels/public/simple/\n",
            "Requirement already satisfied: transformers in /usr/local/lib/python3.10/dist-packages (4.30.2)\n",
            "Requirement already satisfied: filelock in /usr/local/lib/python3.10/dist-packages (from transformers) (3.12.0)\n",
            "Requirement already satisfied: huggingface-hub<1.0,>=0.14.1 in /usr/local/lib/python3.10/dist-packages (from transformers) (0.15.1)\n",
            "Requirement already satisfied: numpy>=1.17 in /usr/local/lib/python3.10/dist-packages (from transformers) (1.22.4)\n",
            "Requirement already satisfied: packaging>=20.0 in /usr/local/lib/python3.10/dist-packages (from transformers) (23.1)\n",
            "Requirement already satisfied: pyyaml>=5.1 in /usr/local/lib/python3.10/dist-packages (from transformers) (6.0)\n",
            "Requirement already satisfied: regex!=2019.12.17 in /usr/local/lib/python3.10/dist-packages (from transformers) (2022.10.31)\n",
            "Requirement already satisfied: requests in /usr/local/lib/python3.10/dist-packages (from transformers) (2.27.1)\n",
            "Requirement already satisfied: tokenizers!=0.11.3,<0.14,>=0.11.1 in /usr/local/lib/python3.10/dist-packages (from transformers) (0.13.3)\n",
            "Requirement already satisfied: safetensors>=0.3.1 in /usr/local/lib/python3.10/dist-packages (from transformers) (0.3.1)\n",
            "Requirement already satisfied: tqdm>=4.27 in /usr/local/lib/python3.10/dist-packages (from transformers) (4.65.0)\n",
            "Requirement already satisfied: fsspec in /usr/local/lib/python3.10/dist-packages (from huggingface-hub<1.0,>=0.14.1->transformers) (2023.4.0)\n",
            "Requirement already satisfied: typing-extensions>=3.7.4.3 in /usr/local/lib/python3.10/dist-packages (from huggingface-hub<1.0,>=0.14.1->transformers) (4.5.0)\n",
            "Requirement already satisfied: urllib3<1.27,>=1.21.1 in /usr/local/lib/python3.10/dist-packages (from requests->transformers) (1.26.15)\n",
            "Requirement already satisfied: certifi>=2017.4.17 in /usr/local/lib/python3.10/dist-packages (from requests->transformers) (2022.12.7)\n",
            "Requirement already satisfied: charset-normalizer~=2.0.0 in /usr/local/lib/python3.10/dist-packages (from requests->transformers) (2.0.12)\n",
            "Requirement already satisfied: idna<4,>=2.5 in /usr/local/lib/python3.10/dist-packages (from requests->transformers) (3.4)\n"
          ]
        }
      ],
      "source": [
        "pip install transformers"
      ],
      "id": "M1pz8zzV4Qj_"
    },
    {
      "cell_type": "code",
      "execution_count": null,
      "metadata": {
        "colab": {
          "base_uri": "https://localhost:8080/"
        },
        "id": "8BMeWiIE3-BS",
        "outputId": "302a7475-ea04-4dca-f1fa-677a3db1f35c"
      },
      "outputs": [
        {
          "output_type": "stream",
          "name": "stderr",
          "text": [
            "Some weights of the model checkpoint at bert-base-uncased were not used when initializing BertModel: ['cls.predictions.bias', 'cls.predictions.transform.dense.weight', 'cls.predictions.transform.LayerNorm.weight', 'cls.predictions.transform.LayerNorm.bias', 'cls.seq_relationship.weight', 'cls.predictions.transform.dense.bias', 'cls.seq_relationship.bias']\n",
            "- This IS expected if you are initializing BertModel from the checkpoint of a model trained on another task or with another architecture (e.g. initializing a BertForSequenceClassification model from a BertForPreTraining model).\n",
            "- This IS NOT expected if you are initializing BertModel from the checkpoint of a model that you expect to be exactly identical (initializing a BertForSequenceClassification model from a BertForSequenceClassification model).\n"
          ]
        }
      ],
      "source": [
        "from transformers import AutoTokenizer, AutoModel\n",
        "import torch\n",
        "from scipy.spatial.distance import cosine\n",
        "from transformers import BertTokenizer, BertModel\n",
        "\n",
        "\n",
        "#DIFFERENT MODELS OF BIOBERT TO TRY:\n",
        "#dmis-lab/biobert-base-cased-v1.2: Trained in the same way as BioBERT-Base v1.1 but includes LM head, which can be useful for probing\n",
        "#dmis-lab/biobert-base-cased-v1.1: BioBERT-Base v1.1 (+ PubMed 1M)\n",
        "#dmis-lab/biobert-large-cased-v1.1: BioBERT-Large v1.1 (+ PubMed 1M)\n",
        "#dmis-lab/biobert-base-cased-v1.2: BioBERT-Base v1.2 (+ PubMed 1M + LM head)\n",
        "\n",
        "# # Load pre-trained BioBERT model and tokenizer\n",
        "# tokenizer = BertTokenizer.from_pretrained(\"dmis-lab/biobert-v1.1\")\n",
        "# model = BertModel.from_pretrained(\"dmis-lab/biobert-v1.1\")\n",
        "\n",
        "# tokenizer = AutoTokenizer.from_pretrained(\"bionlp/bluebert_pubmed_uncased_L-12_H-768_A-12\")\n",
        "# model = AutoModel.from_pretrained(\"bionlp/bluebert_pubmed_uncased_L-12_H-768_A-12\")\n",
        "\n",
        "tokenizer = BertTokenizer.from_pretrained('bert-base-uncased')\n",
        "model = BertModel.from_pretrained('bert-base-uncased')\n",
        "\n",
        "\n",
        "\n",
        "# tokenizer = BertTokenizer.from_pretrained('bert-base-cased')\n",
        "# model = BertModel.from_pretrained(\"bert-base-cased\")"
      ],
      "id": "8BMeWiIE3-BS"
    },
    {
      "cell_type": "code",
      "execution_count": null,
      "metadata": {
        "id": "NQGaG_7g5b5f"
      },
      "outputs": [],
      "source": [],
      "id": "NQGaG_7g5b5f"
    },
    {
      "cell_type": "markdown",
      "metadata": {
        "id": "BHhis84s49uE"
      },
      "source": [
        "# inspect BioBERT vocabulary"
      ],
      "id": "BHhis84s49uE"
    },
    {
      "cell_type": "code",
      "execution_count": null,
      "metadata": {
        "id": "Jc_h6F624PiZ"
      },
      "outputs": [],
      "source": [
        "with open(\"vocabulary.txt\", 'w') as f:\n",
        "\n",
        "    # For each token...\n",
        "    for token in tokenizer.vocab.keys():\n",
        "\n",
        "        # Write it out and escape any unicode characters.\n",
        "        f.write(token + '\\n')"
      ],
      "id": "Jc_h6F624PiZ"
    },
    {
      "cell_type": "code",
      "source": [],
      "metadata": {
        "id": "d51bvZ75PuDp"
      },
      "id": "d51bvZ75PuDp",
      "execution_count": null,
      "outputs": []
    },
    {
      "cell_type": "code",
      "source": [
        "len(tokenizer.vocab.keys())"
      ],
      "metadata": {
        "colab": {
          "base_uri": "https://localhost:8080/"
        },
        "id": "5QMAsO3EPuJ3",
        "outputId": "8669670f-e68e-42ae-cb34-84f8ff241751"
      },
      "id": "5QMAsO3EPuJ3",
      "execution_count": null,
      "outputs": [
        {
          "output_type": "execute_result",
          "data": {
            "text/plain": [
              "30522"
            ]
          },
          "metadata": {},
          "execution_count": 15
        }
      ]
    },
    {
      "cell_type": "code",
      "execution_count": null,
      "metadata": {
        "id": "9KmNol9E5DBa"
      },
      "outputs": [],
      "source": [
        "one_chars = []\n",
        "one_chars_hashes = []\n",
        "\n",
        "# For each token in the vocabulary...\n",
        "for token in tokenizer.vocab.keys():\n",
        "\n",
        "    # Record any single-character tokens.\n",
        "    if len(token) == 1:\n",
        "        one_chars.append(token)\n",
        "\n",
        "    # Record single-character tokens preceded by the two hashes.\n",
        "    elif len(token) == 3 and token[0:2] == '##':\n",
        "        one_chars_hashes.append(token)"
      ],
      "id": "9KmNol9E5DBa"
    },
    {
      "cell_type": "code",
      "execution_count": null,
      "metadata": {
        "colab": {
          "base_uri": "https://localhost:8080/"
        },
        "id": "EB7vuEsX5DG1",
        "outputId": "96961f03-d916-463c-f351-54704ed1979e"
      },
      "outputs": [
        {
          "output_type": "stream",
          "name": "stdout",
          "text": [
            "Number of single character tokens with hashes: 997 \n",
            "\n",
            "s a e i n o d r y t l m u h k c g p 2 z 1 b 3 f 4 6 7 x v 8 5 9 0 w j q ° ₂ а и\n",
            "² ₃ ı ₁ ⁺ ½ о ه ي α е د ن ν ø р ₄ ₀ ر я ³ ι ł н ᵢ ₙ ß ة ς م − т ː ل ь к ♭ η ی в\n",
            "ا × ¹ ы ה ɛ л ! \" # $ % & ' ( ) * + , - . / : ; < = > ? @ [ \\ ] ^ _ ` { | } ~ ¡\n",
            "¢ £ ¤ ¥ ¦ § ¨ © ª « ¬ ® ± ´ µ ¶ · º » ¼ ¾ ¿ æ ð ÷ þ đ ħ ŋ œ ƒ ɐ ɑ ɒ ɔ ɕ ə ɡ ɣ ɨ\n",
            "ɪ ɫ ɬ ɯ ɲ ɴ ɹ ɾ ʀ ʁ ʂ ʃ ʉ ʊ ʋ ʌ ʎ ʐ ʑ ʒ ʔ ʰ ʲ ʳ ʷ ʸ ʻ ʼ ʾ ʿ ˈ ˡ ˢ ˣ ˤ β γ δ ε ζ\n",
            "θ κ λ μ ξ ο π ρ σ τ υ φ χ ψ ω б г д ж з м п с у ф х ц ч ш щ ъ э ю ђ є і ј љ њ ћ\n",
            "ӏ ա բ գ դ ե թ ի լ կ հ մ յ ն ո պ ս վ տ ր ւ ք ־ א ב ג ד ו ז ח ט י ך כ ל ם מ ן נ ס\n",
            "ע ף פ ץ צ ק ר ש ת ، ء ب ت ث ج ح خ ذ ز س ش ص ض ط ظ ع غ ـ ف ق ك و ى ٹ پ چ ک گ ں ھ\n",
            "ہ ے अ आ उ ए क ख ग च ज ट ड ण त थ द ध न प ब भ म य र ल व श ष स ह ा ि ी ो । ॥ ং অ আ\n",
            "ই উ এ ও ক খ গ চ ছ জ ট ড ণ ত থ দ ধ ন প ব ভ ম য র ল শ ষ স হ া ি ী ে க ச ட த ந ன ப\n",
            "ம ய ர ல ள வ ா ி ு ே ை ನ ರ ಾ ක ය ර ල ව ා ก ง ต ท น พ ม ย ร ล ว ส อ า เ ་ ། ག ང ད\n",
            "ན པ བ མ འ ར ལ ས မ ა ბ გ დ ე ვ თ ი კ ლ მ ნ ო რ ს ტ უ ᄀ ᄂ ᄃ ᄅ ᄆ ᄇ ᄉ ᄊ ᄋ ᄌ ᄎ ᄏ ᄐ ᄑ\n",
            "ᄒ ᅡ ᅢ ᅥ ᅦ ᅧ ᅩ ᅪ ᅭ ᅮ ᅯ ᅲ ᅳ ᅴ ᅵ ᆨ ᆫ ᆯ ᆷ ᆸ ᆼ ᴬ ᴮ ᴰ ᴵ ᴺ ᵀ ᵃ ᵇ ᵈ ᵉ ᵍ ᵏ ᵐ ᵒ ᵖ ᵗ ᵘ ᵣ ᵤ\n",
            "ᵥ ᶜ ᶠ ‐ ‑ ‒ – — ― ‖ ‘ ’ ‚ “ ” „ † ‡ • … ‰ ′ ″ › ‿ ⁄ ⁰ ⁱ ⁴ ⁵ ⁶ ⁷ ⁸ ⁹ ⁻ ⁿ ₅ ₆ ₇ ₈\n",
            "₉ ₊ ₍ ₎ ₐ ₑ ₒ ₓ ₕ ₖ ₗ ₘ ₚ ₛ ₜ ₤ ₩ € ₱ ₹ ℓ № ℝ ™ ⅓ ⅔ ← ↑ → ↓ ↔ ↦ ⇄ ⇌ ⇒ ∂ ∅ ∆ ∇ ∈\n",
            "∗ ∘ √ ∞ ∧ ∨ ∩ ∪ ≈ ≡ ≤ ≥ ⊂ ⊆ ⊕ ⊗ ⋅ ─ │ ■ ▪ ● ★ ☆ ☉ ♠ ♣ ♥ ♦ ♯ ⟨ ⟩ ⱼ ⺩ ⺼ ⽥ 、 。 〈 〉\n",
            "《 》 「 」 『 』 〜 あ い う え お か き く け こ さ し す せ そ た ち っ つ て と な に ぬ ね の は ひ ふ へ ほ ま み\n",
            "む め も や ゆ よ ら り る れ ろ を ん ァ ア ィ イ ウ ェ エ オ カ キ ク ケ コ サ シ ス セ タ チ ッ ツ テ ト ナ ニ ノ ハ\n",
            "ヒ フ ヘ ホ マ ミ ム メ モ ャ ュ ョ ラ リ ル レ ロ ワ ン ・ ー 一 三 上 下 不 世 中 主 久 之 也 事 二 五 井 京 人 亻 仁\n",
            "介 代 仮 伊 会 佐 侍 保 信 健 元 光 八 公 内 出 分 前 劉 力 加 勝 北 区 十 千 南 博 原 口 古 史 司 合 吉 同 名 和 囗 四\n",
            "国 國 土 地 坂 城 堂 場 士 夏 外 大 天 太 夫 奈 女 子 学 宀 宇 安 宗 定 宣 宮 家 宿 寺 將 小 尚 山 岡 島 崎 川 州 巿 帝\n",
            "平 年 幸 广 弘 張 彳 後 御 德 心 忄 志 忠 愛 成 我 戦 戸 手 扌 政 文 新 方 日 明 星 春 昭 智 曲 書 月 有 朝 木 本 李 村\n",
            "東 松 林 森 楊 樹 橋 歌 止 正 武 比 氏 民 水 氵 氷 永 江 沢 河 治 法 海 清 漢 瀬 火 版 犬 王 生 田 男 疒 発 白 的 皇 目\n",
            "相 省 真 石 示 社 神 福 禾 秀 秋 空 立 章 竹 糹 美 義 耳 良 艹 花 英 華 葉 藤 行 街 西 見 訁 語 谷 貝 貴 車 軍 辶 道 郎\n",
            "郡 部 都 里 野 金 鈴 镇 長 門 間 阝 阿 陳 陽 雄 青 面 風 食 香 馬 高 龍 龸 ﬁ ﬂ ！ （ ） ， － ． ／ ： ？ ～\n"
          ]
        }
      ],
      "source": [
        "print('Number of single character tokens with hashes:', len(one_chars_hashes), '\\n')\n",
        "\n",
        "# Print all of the single characters, 40 per row.\n",
        "\n",
        "# Strip the hash marks, since they just clutter the display.\n",
        "tokens = [token.replace('##', '') for token in one_chars_hashes]\n",
        "\n",
        "# For every batch of 40 tokens...\n",
        "for i in range(0, len(tokens), 40):\n",
        "\n",
        "    # Limit the end index so we don't go past the end of the list.\n",
        "    end = min(i + 40, len(tokens) + 1)\n",
        "\n",
        "    # Print out the tokens, separated by a space.\n",
        "    print(' '.join(tokens[i:end]))"
      ],
      "id": "EB7vuEsX5DG1"
    },
    {
      "cell_type": "code",
      "execution_count": null,
      "metadata": {
        "colab": {
          "base_uri": "https://localhost:8080/"
        },
        "id": "IVBeFsyU5DKi",
        "outputId": "fcf81499-1bd1-47d3-e9c8-4aa671a54c49"
      },
      "outputs": [
        {
          "output_type": "stream",
          "name": "stdout",
          "text": [
            "Are the two sets identical? True\n"
          ]
        }
      ],
      "source": [
        "print('Are the two sets identical?', set(one_chars) == set(tokens))"
      ],
      "id": "IVBeFsyU5DKi"
    },
    {
      "cell_type": "code",
      "execution_count": null,
      "metadata": {
        "id": "bxgN7ERL5q1U"
      },
      "outputs": [],
      "source": [
        "# tokenizer.vocab.keys()"
      ],
      "id": "bxgN7ERL5q1U"
    },
    {
      "cell_type": "code",
      "source": [
        "# # Load pre-trained BioBERT model and tokenizer\n",
        "# tokenizer = BertTokenizer.from_pretrained(\"dmis-lab/biobert-v1.1\")\n",
        "# model = BertModel.from_pretrained(\"dmis-lab/biobert-v1.1\")\n",
        "\n",
        "tokenizer = AutoTokenizer.from_pretrained(\"bionlp/bluebert_pubmed_uncased_L-12_H-768_A-12\")\n",
        "model = AutoModel.from_pretrained(\"bionlp/bluebert_pubmed_uncased_L-12_H-768_A-12\")\n",
        "\n",
        "# tokenizer = BertTokenizer.from_pretrained('bert-base-uncased')\n",
        "# model = BertModel.from_pretrained('bert-base-uncased')"
      ],
      "metadata": {
        "colab": {
          "base_uri": "https://localhost:8080/",
          "height": 187,
          "referenced_widgets": [
            "d7b3f3c1f63644dc8fd4ce5a2203d0aa",
            "27ec560f06284224a395848cd16206d0",
            "414ae28d741b4ca599ff9c82e7fb1952",
            "9ffcdc4ba9c8472686c6f2100f07bf6c",
            "4c87d1c3635648a493516111a81903ce",
            "0e068aa9e54b46238cdcb3e0860ea501",
            "d4baf429ee824910954515af3e2ed180",
            "b73be38af51343b5b60eae328acff7c7",
            "23118605eb2d47418899c2bf8b41644a",
            "ddd057e1a0f14340902ffdc041585dfa",
            "8bf72db8b9ff46efa4891f6173de8283",
            "d7d891754697482dbbf0450bf46bee0b",
            "8403af0e8a3442d782f0382b16f02441",
            "1fd47aea0e2c45e4961611a5f2f7f5c5",
            "118526d5428d4ba58896a9b79fcb4be1",
            "f40a85d1e21348528fd9b97e47230bd3",
            "b39a644eb3a343da8d07a87c43747ea4",
            "e72b7eca11e84a6cb57f2b2c2ca27acf",
            "83e705974347478fbcee601b8e7fff96",
            "3a7ed26c08e049c69f1308f5d402e48a",
            "fe590d4a5b1b492f8d1bbc0ba9e6edeb",
            "0a3661382b234c11bfa67126e77f65f4",
            "d2838b49b775432a95cc5a50e3c92184",
            "e3c5c46c5fa449ce8ae984e476cf9b1a",
            "64201870270d4ad4bd39c8a9e4e6fd42",
            "aa0fb8a727004951bc831179fcfaf83c",
            "75ee0c10713642cbb8955ccb913fa611",
            "4530841376f04c418117c87db0a4032b",
            "01ffd50284b643b4a8d08ebd91ffdf80",
            "50bb7f619a0646be97f06967c2fe8335",
            "b99294e35c0a41d490ccdfe4766c8f2c",
            "c48ced827c0749a580f911df206d1df1",
            "20c30a1e80334ac89de3ed4de822bbf7"
          ]
        },
        "id": "Zfq0qFr_oFHz",
        "outputId": "c16fba30-7f5c-45ee-9377-97371d6acf87"
      },
      "id": "Zfq0qFr_oFHz",
      "execution_count": null,
      "outputs": [
        {
          "output_type": "display_data",
          "data": {
            "text/plain": [
              "Downloading (…)lve/main/config.json:   0%|          | 0.00/313 [00:00<?, ?B/s]"
            ],
            "application/vnd.jupyter.widget-view+json": {
              "version_major": 2,
              "version_minor": 0,
              "model_id": "d7b3f3c1f63644dc8fd4ce5a2203d0aa"
            }
          },
          "metadata": {}
        },
        {
          "output_type": "display_data",
          "data": {
            "text/plain": [
              "Downloading (…)solve/main/vocab.txt:   0%|          | 0.00/232k [00:00<?, ?B/s]"
            ],
            "application/vnd.jupyter.widget-view+json": {
              "version_major": 2,
              "version_minor": 0,
              "model_id": "d7d891754697482dbbf0450bf46bee0b"
            }
          },
          "metadata": {}
        },
        {
          "output_type": "display_data",
          "data": {
            "text/plain": [
              "Downloading pytorch_model.bin:   0%|          | 0.00/441M [00:00<?, ?B/s]"
            ],
            "application/vnd.jupyter.widget-view+json": {
              "version_major": 2,
              "version_minor": 0,
              "model_id": "d2838b49b775432a95cc5a50e3c92184"
            }
          },
          "metadata": {}
        },
        {
          "output_type": "stream",
          "name": "stderr",
          "text": [
            "Some weights of the model checkpoint at bionlp/bluebert_pubmed_uncased_L-12_H-768_A-12 were not used when initializing BertModel: ['cls.predictions.bias', 'cls.predictions.transform.dense.weight', 'cls.predictions.transform.LayerNorm.weight', 'cls.predictions.transform.LayerNorm.bias', 'cls.predictions.decoder.bias', 'cls.seq_relationship.weight', 'cls.predictions.decoder.weight', 'cls.predictions.transform.dense.bias', 'cls.seq_relationship.bias']\n",
            "- This IS expected if you are initializing BertModel from the checkpoint of a model trained on another task or with another architecture (e.g. initializing a BertForSequenceClassification model from a BertForPreTraining model).\n",
            "- This IS NOT expected if you are initializing BertModel from the checkpoint of a model that you expect to be exactly identical (initializing a BertForSequenceClassification model from a BertForSequenceClassification model).\n"
          ]
        }
      ]
    },
    {
      "cell_type": "markdown",
      "metadata": {
        "id": "UyNCUooK-B2H"
      },
      "source": [
        "# How are words tokenized by BioBERT?"
      ],
      "id": "UyNCUooK-B2H"
    },
    {
      "cell_type": "code",
      "execution_count": null,
      "metadata": {
        "colab": {
          "base_uri": "https://localhost:8080/"
        },
        "id": "UAYrnU9C-Euh",
        "outputId": "ff96ca2b-70cb-4785-bb32-1c93d2b376f1"
      },
      "outputs": [
        {
          "output_type": "stream",
          "name": "stdout",
          "text": [
            "[101, 7279, 28775, 21202, 102]\n",
            "['[CLS]', 'pen', '##ici', '##llin', '[SEP]']\n"
          ]
        }
      ],
      "source": [
        "# Define the input text\n",
        "text = \"penicillin\"\n",
        "\n",
        "# Tokenize the input text\n",
        "tokens = tokenizer.encode(text, add_special_tokens=True)\n",
        "\n",
        "print(tokens)\n",
        "\n",
        "#Convert the tokens back into words\n",
        "\n",
        "token_words = tokenizer.convert_ids_to_tokens(tokens)\n",
        "print(token_words)"
      ],
      "id": "UAYrnU9C-Euh"
    },
    {
      "cell_type": "code",
      "execution_count": null,
      "metadata": {
        "id": "Me6gtbZYqwAS"
      },
      "outputs": [],
      "source": [
        "def get_nearest_neighbors(embedding, embeddings_matrix, k=10):\n",
        "    \"\"\"\n",
        "    Finds the k-nearest neighbors to a given embedding.\n",
        "\n",
        "    Args:\n",
        "    embedding: numpy array of shape (embedding_dim,), the embedding for which to find the nearest neighbors.\n",
        "    embeddings_matrix: numpy array of shape (vocabulary_size, embedding_dim), the matrix of embeddings for the entire vocabulary.\n",
        "    k: int, the number of nearest neighbors to find.\n",
        "\n",
        "    Returns:\n",
        "    indices: list of length k, the indices of the k-nearest neighbors in the embeddings_matrix.\n",
        "    distances: list of length k, the distances from the nearest neighbors to the given embedding.\n",
        "    \"\"\"\n",
        "    distances = np.linalg.norm(embeddings_matrix - embedding, axis=1)\n",
        "    indices = np.argsort(distances)[:k]\n",
        "    return indices, distances[indices]\n"
      ],
      "id": "Me6gtbZYqwAS"
    },
    {
      "cell_type": "code",
      "execution_count": null,
      "metadata": {
        "colab": {
          "background_save": true
        },
        "id": "SiAoq7XCq72G",
        "outputId": "23aa826b-8dfb-4d59-b896-4201b49c4c46"
      },
      "outputs": [
        {
          "name": "stderr",
          "output_type": "stream",
          "text": [
            "<ipython-input-13-eda0076a314f>:15: VisibleDeprecationWarning: Creating an ndarray from ragged nested sequences (which is a list-or-tuple of lists-or-tuples-or ndarrays with different lengths or shapes) is deprecated. If you meant to do this, you must specify 'dtype=object' when creating the ndarray.\n",
            "  vocab_embeddings = np.array(vocab_embeddings)\n"
          ]
        }
      ],
      "source": [
        "from transformers import AutoTokenizer, AutoModel\n",
        "import torch\n",
        "\n",
        "# Load pre-trained BioBERT model and tokenizer\n",
        "model_name = \"dmis-lab/biobert-v1.1\"\n",
        "tokenizer = AutoTokenizer.from_pretrained(model_name)\n",
        "model = AutoModel.from_pretrained(model_name)\n",
        "\n",
        "# Get embeddings for each token in the vocabulary\n",
        "vocab_embeddings = []\n",
        "for token in tokenizer.get_vocab().keys():\n",
        "    input_ids = torch.tensor(tokenizer.encode(token)).unsqueeze(0)\n",
        "    embeddings = model(input_ids)[0].squeeze(0).detach().numpy()\n",
        "    vocab_embeddings.append(embeddings)\n",
        "vocab_embeddings = np.array(vocab_embeddings)\n"
      ],
      "id": "SiAoq7XCq72G"
    },
    {
      "cell_type": "code",
      "source": [
        "# # Load pre-trained BioBERT model and tokenizer\n",
        "# tokenizer = BertTokenizer.from_pretrained(\"dmis-lab/biobert-v1.1\")\n",
        "# model = BertModel.from_pretrained(\"dmis-lab/biobert-v1.1\")\n",
        "\n",
        "# tokenizer = AutoTokenizer.from_pretrained(\"bionlp/bluebert_pubmed_uncased_L-12_H-768_A-12\")\n",
        "# model = AutoModel.from_pretrained(\"bionlp/bluebert_pubmed_uncased_L-12_H-768_A-12\")\n",
        "\n",
        "tokenizer = BertTokenizer.from_pretrained('bert-base-uncased')\n",
        "model = BertModel.from_pretrained('bert-base-uncased')"
      ],
      "metadata": {
        "colab": {
          "base_uri": "https://localhost:8080/"
        },
        "id": "JBCmo79RpH4t",
        "outputId": "bd04679d-94a4-4c1c-8795-d56483e99494"
      },
      "id": "JBCmo79RpH4t",
      "execution_count": null,
      "outputs": [
        {
          "output_type": "stream",
          "name": "stderr",
          "text": [
            "Some weights of the model checkpoint at bert-base-uncased were not used when initializing BertModel: ['cls.predictions.bias', 'cls.predictions.transform.dense.weight', 'cls.predictions.transform.LayerNorm.weight', 'cls.predictions.transform.LayerNorm.bias', 'cls.seq_relationship.weight', 'cls.predictions.transform.dense.bias', 'cls.seq_relationship.bias']\n",
            "- This IS expected if you are initializing BertModel from the checkpoint of a model trained on another task or with another architecture (e.g. initializing a BertForSequenceClassification model from a BertForPreTraining model).\n",
            "- This IS NOT expected if you are initializing BertModel from the checkpoint of a model that you expect to be exactly identical (initializing a BertForSequenceClassification model from a BertForSequenceClassification model).\n"
          ]
        }
      ]
    },
    {
      "cell_type": "markdown",
      "metadata": {
        "id": "wOeSz_0v7t_4"
      },
      "source": [
        "# Distribution of token length in the bioBERT vocabulary"
      ],
      "id": "wOeSz_0v7t_4"
    },
    {
      "cell_type": "code",
      "execution_count": null,
      "metadata": {
        "colab": {
          "base_uri": "https://localhost:8080/",
          "height": 533
        },
        "id": "CP9FkbY65DN3",
        "outputId": "df751a50-90db-4e47-981e-d81b14294f28"
      },
      "outputs": [
        {
          "output_type": "stream",
          "name": "stdout",
          "text": [
            "Maximum token length: 18\n"
          ]
        },
        {
          "output_type": "display_data",
          "data": {
            "text/plain": [
              "<Figure size 1000x500 with 1 Axes>"
            ],
            "image/png": "[encoded data removed]"
          },
          "metadata": {}
        }
      ],
      "source": [
        "\n",
        "\n",
        "import matplotlib.pyplot as plt\n",
        "import seaborn as sns\n",
        "import pandas as pd\n",
        "\n",
        "sns.set(style='darkgrid')\n",
        "sns.set(font_scale=1.5)\n",
        "plt.rcParams[\"figure.figsize\"] = (10,5)\n",
        "\n",
        "# Measure the length of every token in the vocab.\n",
        "token_lengths = [len(token) for token in tokenizer.vocab.keys()]\n",
        "\n",
        "# Count the frequency of each token length.\n",
        "token_lengths_counts = pd.Series(token_lengths).value_counts().sort_index()\n",
        "\n",
        "# Plot the number of tokens of each length.\n",
        "sns.barplot(x=token_lengths_counts.index, y=token_lengths_counts)\n",
        "plt.title('Vocab Token Lengths')\n",
        "plt.xlabel('Token Length')\n",
        "plt.ylabel('# of Tokens')\n",
        "\n",
        "print('Maximum token length:', max(token_lengths))\n"
      ],
      "id": "CP9FkbY65DN3"
    },
    {
      "cell_type": "markdown",
      "metadata": {
        "id": "GeCoOfih75lk"
      },
      "source": [
        "# Number of subwords (WordPiece tokenization)"
      ],
      "id": "GeCoOfih75lk"
    },
    {
      "cell_type": "code",
      "execution_count": null,
      "metadata": {
        "id": "R3KvH3zX73-w"
      },
      "outputs": [],
      "source": [
        "num_subwords = 0\n",
        "\n",
        "subword_lengths = []\n",
        "\n",
        "# For each token in the vocabulary...\n",
        "for token in tokenizer.vocab.keys():\n",
        "\n",
        "    # If it's a subword...\n",
        "    if len(token) >= 2 and token[0:2] == '##':\n",
        "\n",
        "        # Tally all subwords\n",
        "        num_subwords += 1\n",
        "\n",
        "        # Measure the sub word length (without the hashes)\n",
        "        length = len(token) - 2\n",
        "\n",
        "        # Record the lengths.\n",
        "        subword_lengths.append(length)\n"
      ],
      "id": "R3KvH3zX73-w"
    },
    {
      "cell_type": "code",
      "execution_count": null,
      "metadata": {
        "colab": {
          "base_uri": "https://localhost:8080/"
        },
        "id": "KZ7jt_oB5DRA",
        "outputId": "faae483e-05bb-4d4f-d84a-e9d6f1f1b720"
      },
      "outputs": [
        {
          "output_type": "stream",
          "name": "stdout",
          "text": [
            "Number of subwords: 5,828 of 30,522\n",
            "19.1%\n"
          ]
        }
      ],
      "source": [
        "vocab_size = len(tokenizer.vocab.keys())\n",
        "\n",
        "print('Number of subwords: {:,} of {:,}'.format(num_subwords, vocab_size))\n",
        "\n",
        "# Calculate the percentage of words that are '##' subwords.\n",
        "prcnt = float(num_subwords) / vocab_size * 100.0\n",
        "\n",
        "print('%.1f%%' % prcnt)"
      ],
      "id": "KZ7jt_oB5DRA"
    },
    {
      "cell_type": "code",
      "execution_count": null,
      "metadata": {
        "id": "9m6npSIs8ARt"
      },
      "outputs": [],
      "source": [
        "# import matplotlib.pyplot as plt\n",
        "# import seaborn as sns\n",
        "# import numpy as np\n",
        "\n",
        "# sns.set(style='darkgrid')\n",
        "# sns.set(font_scale=1.5)\n",
        "# plt.rcParams[\"figure.figsize\"] = (10,5)\n",
        "\n",
        "# # Measure the length of every subword in the vocab.\n",
        "# subword_lengths = [len(subword.strip('##')) for subword in tokenizer.vocab.keys() if subword.startswith('##')]\n",
        "\n",
        "# # Plot the number of ## subwords of each length.\n",
        "# sns.countplot(subword_lengths)\n",
        "# plt.title('Subword Token Lengths (w/o \"##\")')\n",
        "# plt.xlabel('Subword Length')\n",
        "# plt.ylabel('# of ## Subwords')\n",
        "\n",
        "# print('Maximum subword length:', max(subword_lengths))\n"
      ],
      "id": "9m6npSIs8ARt"
    },
    {
      "cell_type": "code",
      "execution_count": null,
      "metadata": {
        "colab": {
          "base_uri": "https://localhost:8080/",
          "height": 533
        },
        "id": "x2FZuTYo8AUX",
        "outputId": "ba142f81-98cb-44f1-8456-d000b2e9aa02"
      },
      "outputs": [
        {
          "output_type": "execute_result",
          "data": {
            "text/plain": [
              "Text(0, 0.5, '# of Subwords')"
            ]
          },
          "metadata": {},
          "execution_count": 36
        },
        {
          "output_type": "display_data",
          "data": {
            "text/plain": [
              "<Figure size 1000x500 with 1 Axes>"
            ],
            "image/png": "[encoded data removed]"
          },
          "metadata": {}
        }
      ],
      "source": [
        "# Measure the length of every subword in the vocab.\n",
        "subword_lengths = [len(subword.strip('##')) for subword in tokenizer.vocab.keys() if subword.startswith('##')]\n",
        "\n",
        "# Count the frequency of each subword length.\n",
        "subword_lengths_counts = pd.Series(subword_lengths).value_counts().sort_index()\n",
        "\n",
        "# Plot the number of ## subwords of each length.\n",
        "sns.barplot(x=subword_lengths_counts.index, y=subword_lengths_counts)\n",
        "plt.title('Subword Token Lengths')\n",
        "plt.xlabel('Subword Length')\n",
        "plt.ylabel('# of Subwords')\n"
      ],
      "id": "x2FZuTYo8AUX"
    },
    {
      "cell_type": "markdown",
      "metadata": {
        "id": "oNfZCHrL9rsO"
      },
      "source": [
        "# Evaluating cosine similarity between some words"
      ],
      "id": "oNfZCHrL9rsO"
    },
    {
      "cell_type": "code",
      "execution_count": null,
      "metadata": {
        "colab": {
          "base_uri": "https://localhost:8080/"
        },
        "id": "n_r-Et8T9x0o",
        "outputId": "7072e8d2-dda6-4ffe-fc24-952f57cecedf"
      },
      "outputs": [
        {
          "output_type": "stream",
          "name": "stdout",
          "text": [
            "Cosine similarity: 0.8723239898681641\n"
          ]
        }
      ],
      "source": [
        "from scipy.spatial.distance import cosine\n",
        "\n",
        "\n",
        "\n",
        "# Input words\n",
        "word1 = \"gene\"\n",
        "word2 = \"protein\"\n",
        "\n",
        "# Get embeddings for word1\n",
        "inputs1 = tokenizer(word1, return_tensors='pt')\n",
        "outputs1 = model(**inputs1)\n",
        "embedding1 = outputs1.last_hidden_state.mean(dim=1).squeeze()\n",
        "\n",
        "# Get embeddings for word2\n",
        "inputs2 = tokenizer(word2, return_tensors='pt')\n",
        "outputs2 = model(**inputs2)\n",
        "embedding2 = outputs2.last_hidden_state.mean(dim=1).squeeze()\n",
        "\n",
        "# Calculate cosine similarity\n",
        "similarity = 1 - cosine(embedding1.detach().numpy(), embedding2.detach().numpy())\n",
        "\n",
        "# Print similarity\n",
        "print(\"Cosine similarity:\", similarity)"
      ],
      "id": "n_r-Et8T9x0o"
    },
    {
      "cell_type": "code",
      "source": [
        "from scipy.spatial.distance import cosine\n",
        "import matplotlib.pyplot as plt\n",
        "\n",
        "# Input words\n",
        "word1 = \"gene\"\n",
        "word2 = \"protein\"\n",
        "\n",
        "# Get embeddings for word1\n",
        "inputs1 = tokenizer(word1, return_tensors='pt')\n",
        "outputs1 = model(**inputs1)\n",
        "embedding1 = outputs1.last_hidden_state.mean(dim=1).squeeze()\n",
        "\n",
        "# Get embeddings for word2\n",
        "inputs2 = tokenizer(word2, return_tensors='pt')\n",
        "outputs2 = model(**inputs2)\n",
        "embedding2 = outputs2.last_hidden_state.mean(dim=1).squeeze()\n",
        "\n",
        "# Calculate cosine similarity\n",
        "similarity = 1 - cosine(embedding1.detach().numpy(), embedding2.detach().numpy())\n",
        "\n",
        "# Create a scatter plot\n",
        "plt.scatter(embedding1[0].item(), embedding1[1].item(), c='red', label=word1)\n",
        "plt.scatter(embedding2[0].item(), embedding2[1].item(), c='blue', label=word2)\n",
        "\n",
        "# Add labels and title to the plot\n",
        "plt.xlabel('Dimension 1')\n",
        "plt.ylabel('Dimension 2')\n",
        "plt.title('Cosine Similarity')\n",
        "\n",
        "# Add a text annotation to show the similarity value\n",
        "plt.annotate(f'Similarity: {similarity:.2f}', xy=(0.5, 0.5), xycoords='axes fraction')\n",
        "\n",
        "# Show the legend and plot\n",
        "plt.legend()\n",
        "plt.show()\n",
        "\n"
      ],
      "metadata": {
        "colab": {
          "base_uri": "https://localhost:8080/",
          "height": 472
        },
        "id": "aWZXCKXW5YyC",
        "outputId": "54516934-0eee-4038-d68b-adebaccb45db"
      },
      "id": "aWZXCKXW5YyC",
      "execution_count": null,
      "outputs": [
        {
          "output_type": "display_data",
          "data": {
            "text/plain": [
              "<Figure size 640x480 with 1 Axes>"
            ],
            "image/png": "[encoded data removed]"
          },
          "metadata": {}
        }
      ]
    },
    {
      "cell_type": "code",
      "source": [
        "import numpy as np\n",
        "import matplotlib.pyplot as plt\n",
        "from sklearn.metrics.pairwise import cosine_similarity\n",
        "\n",
        "# Example word embeddings\n",
        "word1_embedding = np.array([0.2, 0.5])\n",
        "word2_embedding = np.array([-0.3, 0.8])\n",
        "\n",
        "# Compute cosine distance\n",
        "cosine_distance = 1 - cosine_similarity([word1_embedding], [word2_embedding])[0, 0]\n",
        "\n",
        "# Create scatter plot\n",
        "fig, ax = plt.subplots()\n",
        "\n",
        "# Plot word embeddings as points\n",
        "ax.scatter(word1_embedding[0], word1_embedding[1], color='red', label='Word A')\n",
        "ax.scatter(word2_embedding[0], word2_embedding[1], color='blue', label='Word B')\n",
        "\n",
        "# Draw a line or arrow between the points\n",
        "ax.annotate('', xy=word1_embedding, xytext=word2_embedding,\n",
        "            arrowprops=dict(arrowstyle='->', color='gray'))\n",
        "\n",
        "# Add labels to the points\n",
        "ax.text(word1_embedding[0], word1_embedding[1], 'Word A', ha='right')\n",
        "ax.text(word2_embedding[0], word2_embedding[1], 'Word B', ha='left')\n",
        "\n",
        "# Set plot limits\n",
        "ax.set_xlim(-1.0, 1.0)\n",
        "ax.set_ylim(-1.0, 1.0)\n",
        "\n",
        "# Add legend and title\n",
        "ax.legend()\n",
        "ax.set_title('Cosine Distance between Word Embeddings: {:.2f}'.format(cosine_distance))\n",
        "\n",
        "# Show the plot\n",
        "plt.show()\n"
      ],
      "metadata": {
        "id": "MjDzc_eu7saq"
      },
      "id": "MjDzc_eu7saq",
      "execution_count": null,
      "outputs": []
    },
    {
      "cell_type": "markdown",
      "metadata": {
        "id": "4fp1TSzY9vEA"
      },
      "source": [
        "# Evaluating euclidean distance between some words"
      ],
      "id": "4fp1TSzY9vEA"
    },
    {
      "cell_type": "code",
      "execution_count": null,
      "metadata": {
        "colab": {
          "base_uri": "https://localhost:8080/"
        },
        "id": "WEUxZP7V9rEG",
        "outputId": "20d1351b-c62d-4ac5-aad7-3f64ecb64f4b"
      },
      "outputs": [
        {
          "name": "stdout",
          "output_type": "stream",
          "text": [
            "Euclidean distance: 3.944382667541504\n"
          ]
        }
      ],
      "source": [
        "from scipy.spatial.distance import euclidean\n",
        "\n",
        "#embeddings from the above code\n",
        "distance = euclidean(embedding1.detach().numpy(), embedding2.detach().numpy())\n",
        "print(\"Euclidean distance:\", distance)"
      ],
      "id": "WEUxZP7V9rEG"
    },
    {
      "cell_type": "markdown",
      "metadata": {
        "id": "yVXefIgwhEFW"
      },
      "source": [
        "# **CLUSTERING**"
      ],
      "id": "yVXefIgwhEFW"
    },
    {
      "cell_type": "code",
      "execution_count": null,
      "metadata": {
        "id": "mRYcEdoZAURJ"
      },
      "outputs": [],
      "source": [
        "import torch\n"
      ],
      "id": "mRYcEdoZAURJ"
    },
    {
      "cell_type": "code",
      "execution_count": null,
      "metadata": {
        "colab": {
          "base_uri": "https://localhost:8080/",
          "height": 745
        },
        "id": "9IRPqBCriQ4X",
        "outputId": "e61675c8-02c7-49f5-b463-e9d9c7961215"
      },
      "outputs": [
        {
          "name": "stderr",
          "output_type": "stream",
          "text": [
            "/usr/local/lib/python3.9/dist-packages/sklearn/cluster/_kmeans.py:870: FutureWarning: The default value of `n_init` will change from 10 to 'auto' in 1.4. Set the value of `n_init` explicitly to suppress the warning\n",
            "  warnings.warn(\n"
          ]
        },
        {
          "data": {
            "image/png": "[encoded data removed]",
            "text/plain": [
              "<Figure size 800x800 with 1 Axes>"
            ]
          },
          "metadata": {},
          "output_type": "display_data"
        }
      ],
      "source": [
        " from transformers import AutoTokenizer, AutoModel\n",
        "import numpy as np\n",
        "from sklearn.cluster import KMeans\n",
        "from sklearn.manifold import TSNE\n",
        "import matplotlib.pyplot as plt\n",
        "\n",
        "# Load the BioBERT tokenizer and model\n",
        "tokenizer = AutoTokenizer.from_pretrained('dmis-lab/biobert-v1.1')\n",
        "model = AutoModel.from_pretrained('dmis-lab/biobert-v1.1')\n",
        "\n",
        "# Define a list of words to cluster\n",
        "words = ['gene', 'protein', 'mutation', 'cell', 'disease', 'cancer', 'vaccine', 'penicillin']\n",
        "\n",
        "# Generate embeddings for the words using the BioBERT model\n",
        "embeddings = []\n",
        "for word in words:\n",
        "    # Tokenize the word and convert it to a tensor\n",
        "    input_ids = torch.tensor(tokenizer.encode(word)).unsqueeze(0)\n",
        "    # Get the embeddings for the tokenized input\n",
        "    with torch.no_grad():\n",
        "        output = model(input_ids)\n",
        "    # Extract the final hidden state of the first token (the [CLS] token)\n",
        "    embedding = output[0][:, 0, :].numpy()\n",
        "    embeddings.append(embedding)\n",
        "\n",
        "# Reshape the embeddings to remove the third dimension\n",
        "embeddings = np.array(embeddings)\n",
        "n_samples, n_dims, _ = embeddings.shape\n",
        "embeddings = embeddings.reshape(n_samples, n_dims * _)\n",
        "\n",
        "# Apply KMeans clustering to the embeddings\n",
        "n_clusters = 3\n",
        "kmeans = KMeans(n_clusters=n_clusters)\n",
        "kmeans.fit(embeddings)\n",
        "\n",
        "# Get the labels for each word\n",
        "labels = kmeans.labels_\n",
        "\n",
        "tsne = TSNE(n_components=2, perplexity =5)\n",
        "embeddings_tsne = tsne.fit_transform(embeddings)\n",
        "\n",
        "# Plot the embeddings in a scatter plot\n",
        "plt.figure(figsize=(8, 8))\n",
        "colors = ['red', 'blue', 'green']\n",
        "for i in range(n_clusters):\n",
        "    cluster_words = [words[j] for j in range(len(words)) if labels[j] == i]\n",
        "    cluster_embeddings = embeddings_tsne[labels == i]\n",
        "    x = cluster_embeddings[:, 0]\n",
        "    y = cluster_embeddings[:, 1]\n",
        "    plt.scatter(x, y, color=colors[i])\n",
        "    for j, word in enumerate(cluster_words):\n",
        "        plt.annotate(word, (x[j], y[j]))\n",
        "plt.show()"
      ],
      "id": "9IRPqBCriQ4X"
    },
    {
      "cell_type": "markdown",
      "metadata": {
        "id": "Vm2_QkVqjy3-"
      },
      "source": [
        "# **GET NEAREST NEIGHBORS OF INPUT WORD**"
      ],
      "id": "Vm2_QkVqjy3-"
    },
    {
      "cell_type": "code",
      "execution_count": null,
      "metadata": {
        "id": "gIO02U5_lBRY"
      },
      "outputs": [],
      "source": [
        "word1 = 'gene'\n",
        "\n",
        "inputs = tokenizer(word1, return_tensors='pt')\n",
        "outputs = model(**inputs)\n",
        "embedding = outputs.last_hidden_state.mean(dim=1).squeeze()"
      ],
      "id": "gIO02U5_lBRY"
    },
    {
      "cell_type": "code",
      "execution_count": null,
      "metadata": {
        "id": "XoktLPCiA9yI"
      },
      "outputs": [],
      "source": [
        "# import torch\n",
        "# from transformers import AutoTokenizer, AutoModel\n",
        "# from sklearn.neighbors import NearestNeighbors\n",
        "\n",
        "# # set up BioBERT tokenizer and model\n",
        "# tokenizer = AutoTokenizer.from_pretrained(\"dmis-lab/biobert-v1.1\")\n",
        "# model = AutoModel.from_pretrained(\"dmis-lab/biobert-v1.1\")\n",
        "\n",
        "# # get the full BioBERT vocabulary\n",
        "# vocab = tokenizer.get_vocab()\n",
        "\n",
        "# # extract the embedding for the input word from the BioBERT model\n",
        "# # input_word = \"gene\"\n",
        "# # input_word_tokens = tokenizer.encode_plus(input_word, return_tensors='pt', padding='max_length', truncation=True, max_length=128)\n",
        "# # with torch.no_grad():\n",
        "# #     input_word_embedding = model(**input_word_tokens).last_hidden_state.mean(dim=1).squeeze().detach().numpy()\n",
        "\n",
        "# input_word ='gene'\n",
        "# input_word_to = tokenizer(input_word, return_tensors='pt')\n",
        "# input_word_tokens = model(**input_word_to)\n",
        "# input_word_embedding = input_word_tokens.last_hidden_state.mean(dim=1).squeeze()\n",
        "\n",
        "# # find the embeddings and words for all words in the vocabulary that have at least 4 characters\n",
        "# embeddings = []\n",
        "# words = []\n",
        "# for word in vocab:\n",
        "#     if len(word) >= 4:\n",
        "#         word_idx = vocab[word]\n",
        "#         embedding = model.embeddings.word_embeddings(torch.tensor(word_idx)).cpu().detach().numpy()\n",
        "#         embeddings.append(embedding)\n",
        "#         words.append(word)\n",
        "\n",
        "# # use KNN to find the most similar words to the input word\n",
        "# n_neighbors = 10\n",
        "# nn = NearestNeighbors(n_neighbors=n_neighbors, metric='cosine')\n",
        "# nn.fit(embeddings)\n",
        "# distances, indices = nn.kneighbors([input_word_embedding])\n",
        "\n",
        "# # print the closest words to the input word\n",
        "# print(\"Closest words to '%s':\" % input_word)\n",
        "# for i in range(n_neighbors):\n",
        "#     print(words[indices[0][i]])\n"
      ],
      "id": "XoktLPCiA9yI"
    },
    {
      "cell_type": "code",
      "execution_count": null,
      "metadata": {
        "colab": {
          "base_uri": "https://localhost:8080/"
        },
        "id": "Boi4JWP9AUeL",
        "outputId": "dc8341b9-8739-408f-eb4a-67ecf38c9d90"
      },
      "outputs": [
        {
          "name": "stdout",
          "output_type": "stream",
          "text": [
            "Closest words to 'gene':\n",
            "[CLS]\n",
            "[MASK]\n",
            "[SEP]\n",
            "with\n",
            "from\n",
            "were\n",
            "that\n",
            "this\n",
            "during\n",
            "these\n"
          ]
        }
      ],
      "source": [
        "import torch\n",
        "from transformers import AutoTokenizer, AutoModel\n",
        "from sklearn.neighbors import NearestNeighbors\n",
        "\n",
        "# set up BioBERT tokenizer and model\n",
        "tokenizer = AutoTokenizer.from_pretrained(\"dmis-lab/biobert-v1.1\")\n",
        "model = AutoModel.from_pretrained(\"dmis-lab/biobert-v1.1\")\n",
        "\n",
        "# get the full BioBERT vocabulary\n",
        "vocab = tokenizer.get_vocab()\n",
        "\n",
        "# extract the embedding for the input word from the BioBERT model\n",
        "input_word = \"gene\"\n",
        "input_word_tokens = tokenizer.encode_plus(input_word, return_tensors='pt', padding='max_length', truncation=True, max_length=128)\n",
        "with torch.no_grad():\n",
        "    input_word_embedding = model(**input_word_tokens).last_hidden_state.mean(dim=1).squeeze().detach().numpy()\n",
        "\n",
        "# find the embeddings and words for all words in the vocabulary that have at least 4 characters\n",
        "embeddings = []\n",
        "words = []\n",
        "for word in vocab:\n",
        "    if len(word) >= 4:\n",
        "        word_idx = vocab[word]\n",
        "        with torch.no_grad():\n",
        "            embedding = model.embeddings.word_embeddings(torch.tensor(word_idx)).cpu().detach().numpy()\n",
        "        embeddings.append(embedding)\n",
        "        words.append(word)\n",
        "\n",
        "# use KNN to find the most similar words to the input word\n",
        "n_neighbors = 10\n",
        "nn = NearestNeighbors(n_neighbors=n_neighbors, metric='cosine')\n",
        "nn.fit(embeddings)\n",
        "distances, indices = nn.kneighbors([input_word_embedding])\n",
        "\n",
        "# print the closest words to the input word\n",
        "print(\"Closest words to '%s':\" % input_word)\n",
        "for i in range(n_neighbors):\n",
        "    print(words[indices[0][i]])\n"
      ],
      "id": "Boi4JWP9AUeL"
    },
    {
      "cell_type": "code",
      "execution_count": null,
      "metadata": {
        "id": "6Fdfau9dsV_0"
      },
      "outputs": [],
      "source": [],
      "id": "6Fdfau9dsV_0"
    },
    {
      "cell_type": "code",
      "execution_count": null,
      "metadata": {
        "id": "HSSMDrkWtb_K"
      },
      "outputs": [],
      "source": [
        "inputs1 = tokenizer(word1, return_tensors='pt')\n",
        "outputs1 = model(**inputs1)\n",
        "embedding1 = outputs1.last_hidden_state.mean(dim=1).squeeze()"
      ],
      "id": "HSSMDrkWtb_K"
    },
    {
      "cell_type": "markdown",
      "metadata": {
        "id": "UrF33D2ate_W"
      },
      "source": [
        "# **Knowledge graph construction of a gene**"
      ],
      "id": "UrF33D2ate_W"
    },
    {
      "cell_type": "code",
      "execution_count": null,
      "metadata": {
        "id": "LIWF1IbG2WdA"
      },
      "outputs": [],
      "source": [],
      "id": "LIWF1IbG2WdA"
    },
    {
      "cell_type": "code",
      "execution_count": null,
      "metadata": {
        "colab": {
          "base_uri": "https://localhost:8080/"
        },
        "id": "8CMA37Xwvyvy",
        "outputId": "897ab8b6-d6e0-4ae5-d48e-9aedd9dc54a6"
      },
      "outputs": [
        {
          "name": "stdout",
          "output_type": "stream",
          "text": [
            "Closest words to 'gene': ['[CLS]', '[MASK]', '.', '[SEP]', ',', 'the', 'of', '(', 'to', '-']\n"
          ]
        }
      ],
      "source": [
        "import torch\n",
        "from transformers import AutoTokenizer, AutoModel\n",
        "from sklearn.neighbors import NearestNeighbors\n",
        "\n",
        "# set up BioBERT tokenizer and model\n",
        "tokenizer = AutoTokenizer.from_pretrained(\"dmis-lab/biobert-v1.1\")\n",
        "model = AutoModel.from_pretrained(\"dmis-lab/biobert-v1.1\")\n",
        "\n",
        "# extract embeddings for the word \"cancer\" from the BioBERT vocabulary\n",
        "word = \"gene\"\n",
        "word_tokens = tokenizer.encode_plus(word, return_tensors='pt', padding='max_length', truncation=True, max_length=128)\n",
        "with torch.no_grad():\n",
        "    word_embeddings = model(**word_tokens).last_hidden_state.mean(dim=1).squeeze().numpy()\n",
        "\n",
        "# find the most similar embeddings to the word embedding using KNN\n",
        "n_neighbors = 10  # number of nearest neighbors to find\n",
        "metric = 'cosine'  # distance metric to use\n",
        "nn = NearestNeighbors(n_neighbors=n_neighbors, metric=metric)\n",
        "nn.fit(model.embeddings.word_embeddings.weight.data.cpu().numpy())\n",
        "distances, indices = nn.kneighbors(word_embeddings.reshape(1, -1))\n",
        "\n",
        "# print the closest words to the input word\n",
        "closest_words = [tokenizer.decode([i]) for i in indices[0]]\n",
        "print(\"Closest words to '%s': %s\" % (word, closest_words))\n"
      ],
      "id": "8CMA37Xwvyvy"
    },
    {
      "cell_type": "code",
      "execution_count": null,
      "metadata": {
        "colab": {
          "base_uri": "https://localhost:8080/"
        },
        "id": "4QmgioyH-2P8",
        "outputId": "9e2d478f-44b1-4de4-c7df-520e936efdaf"
      },
      "outputs": [
        {
          "name": "stdout",
          "output_type": "stream",
          "text": [
            "Cosine similarity: 0.9467215538024902\n"
          ]
        }
      ],
      "source": [
        "from scipy.spatial.distance import cosine\n",
        "\n",
        "\n",
        "# Input words\n",
        "word1 = \"gene\"\n",
        "word2 = \"protein\"\n",
        "\n",
        "# Get embeddings for word1\n",
        "inputs1 = tokenizer(word1, return_tensors='pt')\n",
        "outputs1 = model(**inputs1)\n",
        "embedding1 = outputs1.last_hidden_state.mean(dim=1).squeeze()\n",
        "\n",
        "# Get embeddings for word2\n",
        "inputs2 = tokenizer(word2, return_tensors='pt')\n",
        "outputs2 = model(**inputs2)\n",
        "embedding2 = outputs2.last_hidden_state.mean(dim=1).squeeze()\n",
        "\n",
        "# Calculate cosine similarity\n",
        "similarity = 1 - cosine(embedding1.detach().numpy(), embedding2.detach().numpy())\n",
        "\n",
        "# Print similarity\n",
        "print(\"Cosine similarity:\", similarity)"
      ],
      "id": "4QmgioyH-2P8"
    },
    {
      "cell_type": "code",
      "execution_count": null,
      "metadata": {
        "colab": {
          "base_uri": "https://localhost:8080/"
        },
        "id": "X_s1qHBTGxTi",
        "outputId": "dd7759d1-868e-4959-cbf5-5abdff740002"
      },
      "outputs": [
        {
          "name": "stdout",
          "output_type": "stream",
          "text": [
            "tensor([ 4.6580e-01, -6.6418e-02, -4.1979e-01, -4.5854e-01, -2.5833e-01,\n",
            "        -9.8215e-02,  4.2110e-01,  1.0692e-01, -1.2461e-01, -5.4105e-01,\n",
            "         5.3216e-04,  3.7140e-01, -6.3067e-01, -4.5567e-01, -6.9341e-01,\n",
            "         6.7970e-01,  3.1232e-01,  1.8494e-01,  1.6582e-01,  1.9780e-01,\n",
            "        -3.2592e-01, -6.7163e-01, -2.3697e-01, -1.2135e-01,  5.7019e-03,\n",
            "        -4.4926e-02,  4.3718e-01, -1.3048e-01, -4.1078e-01, -2.3380e-02,\n",
            "        -3.7301e-02,  2.7645e-01, -2.4507e-01,  1.6698e-01, -4.2145e-01,\n",
            "         1.2393e-01, -2.9857e-01,  1.6009e-01, -1.3085e-01, -3.3800e-01,\n",
            "        -3.8587e-01, -8.9048e-02,  5.8851e-01, -5.8718e-01, -2.9481e-02,\n",
            "        -8.5861e-01,  2.8180e-02,  3.0051e-01,  3.7076e-02,  9.4131e-02,\n",
            "         2.6686e-01,  2.5382e-01,  1.0562e-01,  1.1759e-01,  1.4356e-01,\n",
            "         1.0700e-01, -4.5560e-01,  4.9349e-02,  4.1462e-02, -7.0414e-02,\n",
            "         3.1478e-01, -7.3358e-02,  2.6045e-01,  3.0359e-01, -3.7076e-01,\n",
            "         1.2125e-01, -3.0246e-01, -6.1544e-03, -2.7935e-01, -3.4704e-01,\n",
            "        -4.2815e-01, -4.8557e-01,  5.9453e-01,  1.6039e-01,  4.0332e-01,\n",
            "        -4.7329e-01,  2.5037e-01,  1.1248e-01,  4.7195e-02, -2.4276e-01,\n",
            "         2.5610e-01,  6.8345e-01, -7.0627e-02, -1.4784e-02, -3.1100e-01,\n",
            "         1.8348e-05, -2.8657e-01, -5.7949e-02, -2.7031e-01, -1.9834e-01,\n",
            "         5.1948e-01, -5.2712e-02, -6.3206e-01, -8.6887e-04, -3.0186e-01,\n",
            "         4.4752e-01,  4.3072e-01,  1.2788e-01,  5.4367e-01,  5.4588e-01,\n",
            "         3.9465e-01,  1.4607e-01,  6.1412e-02, -1.9496e-01,  4.1870e-01,\n",
            "        -4.6769e-01, -5.7074e-02, -6.7423e-01,  4.8902e-01,  8.5969e-01,\n",
            "        -3.7916e-02,  4.1616e-03,  6.2069e-01, -6.9150e-01,  6.7507e-02,\n",
            "        -1.1551e-01,  4.6572e-01,  7.5278e-01, -3.6293e-02, -6.6050e-01,\n",
            "        -1.1053e-01,  2.7004e-01,  2.4869e-01,  2.6243e-01, -5.4719e-02,\n",
            "        -2.0032e-01,  1.9141e-01, -5.0125e-01,  3.2813e-01, -6.4448e-02,\n",
            "        -5.8410e-01,  3.0103e-04, -1.2746e-01,  3.0835e-01, -2.6683e-02,\n",
            "         4.7883e-01, -5.2061e-01, -6.1382e-02, -1.2941e+00,  1.5824e-01,\n",
            "         1.2821e-02, -6.6010e-01,  2.7652e-02, -5.8300e-01, -3.4734e-01,\n",
            "         9.9483e-01, -1.9101e-01,  1.3174e-01,  9.8569e-02,  7.7495e-02,\n",
            "        -3.3944e-01, -4.2048e-01,  6.3425e-02, -3.4572e-01,  1.4434e-02,\n",
            "        -6.6839e-01,  3.9249e-01, -4.1059e-01,  2.0140e-01, -9.9931e-02,\n",
            "        -6.1013e-02, -2.0951e-01, -8.5873e-01, -4.5822e-02, -3.4628e-01,\n",
            "        -1.7584e-01,  7.1067e-01, -2.5492e-01,  7.5935e-02,  4.2215e-01,\n",
            "         4.8482e-01, -1.9399e-01, -1.0689e+00, -1.3153e-01,  7.6449e-01,\n",
            "         7.6745e-02,  6.3744e-01, -1.1886e-01, -1.0029e-01, -1.3218e-01,\n",
            "         2.2562e-01, -3.5610e-01,  3.7163e-01, -2.8861e-01, -8.9558e-02,\n",
            "         2.9367e-01,  4.4401e-01,  1.9829e-01,  4.3743e-02, -1.9529e-01,\n",
            "         6.3086e-01, -5.5941e-01, -2.1573e-01,  3.3721e-02, -6.2048e-02,\n",
            "        -1.6567e-01, -7.1506e-01, -2.1643e-01,  9.6292e-02,  2.6819e-01,\n",
            "        -3.3195e-01, -2.0915e-01, -3.2873e-01,  1.7429e-01,  2.2920e-01,\n",
            "        -2.4651e-01,  2.8478e-01,  3.4177e-01,  1.6753e-01, -3.4343e-01,\n",
            "        -3.7535e-01,  5.2798e-01,  2.4632e-01,  5.6311e-01,  3.4615e-01,\n",
            "        -1.6586e-01,  4.9901e-01, -3.5966e-02,  1.7457e-01, -2.7688e-01,\n",
            "        -1.1955e-01,  1.5537e-01,  3.9806e-01,  7.8569e-02,  3.7434e-01,\n",
            "         1.0210e-02,  2.6856e-01,  1.7393e-01,  1.6265e-01, -1.1680e-01,\n",
            "         4.7459e-01,  1.2611e-01, -7.2472e-02, -6.2553e-01,  2.5097e-01,\n",
            "         6.0413e-01,  1.5837e-01,  1.5662e-01, -3.6295e-01,  1.4746e-01,\n",
            "        -6.3237e-01, -5.8048e-01,  1.0718e+00, -4.5496e-01,  1.1261e-01,\n",
            "         2.4538e-01, -5.0736e-01,  3.0757e-01,  9.7239e-02,  1.3653e-02,\n",
            "         6.0506e-01, -1.9427e-02, -2.2007e-01,  1.1374e-01,  4.2014e-01,\n",
            "        -6.2240e-03,  4.4376e-02, -4.2005e-01, -9.2686e-01, -3.0096e-02,\n",
            "        -7.9713e-02, -9.5839e-02,  2.4666e-01,  1.3502e-01, -3.4146e-02,\n",
            "         4.0815e-02,  1.7743e-01,  4.9467e-01, -8.2980e-01,  2.2897e-01,\n",
            "        -3.8410e-01, -1.3739e-01, -2.6400e-01, -4.2605e-02, -7.7129e-01,\n",
            "         2.8766e-01,  5.5223e-01,  2.9234e-02,  3.3189e-02, -3.2272e-01,\n",
            "        -4.2945e-01,  3.4363e-01, -2.7952e-01,  5.6165e-01, -6.1488e-01,\n",
            "         1.5303e-01,  3.4723e-01,  5.5374e-02, -3.9791e-01,  6.7923e-01,\n",
            "         3.1202e-01, -3.0253e-01, -2.8609e-01,  4.3660e-01,  3.3945e-01,\n",
            "         1.1526e-01, -5.2924e-01,  6.9393e-02, -1.2398e-01,  1.2050e-02,\n",
            "         1.1190e-01, -4.7812e-01,  2.1638e-01, -4.7753e-01, -1.3256e+00,\n",
            "         5.9827e-01, -9.6320e-02,  5.8143e-01, -2.6495e-01,  1.0207e-02,\n",
            "         3.7659e-01,  2.0775e-01, -4.4078e-01, -1.7112e-01, -5.2517e-01,\n",
            "        -8.4684e-01,  3.6905e-02,  6.4282e-01, -1.5382e-01, -3.7625e-01,\n",
            "         2.6477e-01,  6.3075e-01, -5.3644e-01,  4.1727e-02, -4.6129e-01,\n",
            "         3.4853e-01, -1.3490e-01, -6.1615e-01, -1.1518e-01, -2.9480e-01,\n",
            "         2.1851e-01,  1.2105e-01, -2.3071e-01, -3.4034e-02, -6.8143e-01,\n",
            "        -1.3987e-01, -6.0283e-01, -9.9596e-03, -1.8879e-01,  3.3142e-01,\n",
            "        -3.3311e-01, -3.4312e-01,  2.2517e-01,  6.6354e-03,  1.8704e-01,\n",
            "         2.2765e-01,  2.3233e-01, -5.7939e-01,  1.1244e-01,  1.5993e-01,\n",
            "         4.2735e-01,  5.3910e-01, -5.6141e-01,  1.3212e-02, -7.8126e-02,\n",
            "        -2.0694e-02,  4.3735e-03, -4.4818e-01,  1.2387e-01,  3.0407e-01,\n",
            "        -2.4045e-01, -2.1730e-01,  9.0314e-01, -2.2996e-01,  5.1260e-02,\n",
            "        -4.5479e-01, -5.1591e-01,  8.0995e-01, -3.4673e-01,  2.3115e-01,\n",
            "         6.2794e-01,  6.8499e-02,  8.4554e-01,  1.5492e-02, -3.4157e-02,\n",
            "         2.0871e-01,  5.6321e-02,  2.5224e-01,  5.5495e-01, -3.1811e-01,\n",
            "         5.8500e-02,  6.5671e-01,  6.1960e-01,  2.8020e-01,  1.5804e-01,\n",
            "         2.9713e-01,  1.8708e-01, -4.1434e-01,  2.4168e-01,  3.8345e-02,\n",
            "        -1.8958e-01, -4.9405e-01, -1.4143e-02, -2.2807e-01, -3.0811e-01,\n",
            "         3.8996e-02, -1.6494e-01,  4.9848e-01, -5.1628e-02, -2.9752e-01,\n",
            "        -2.2271e-01,  6.1806e-01, -4.6815e-01,  1.6391e-01, -5.3260e-01,\n",
            "        -5.2759e-02,  1.6873e-01, -4.8547e-01, -1.1997e-01, -8.5193e-02,\n",
            "        -6.3810e-01, -1.4283e-01, -6.6843e-02,  3.0760e-01,  1.8972e-01,\n",
            "        -1.4483e-01,  2.1009e-01,  2.3372e-01,  1.3223e-01,  1.2556e-01,\n",
            "         3.3528e-01, -4.7375e-01, -1.4110e-01, -3.3335e-01,  1.9996e-01,\n",
            "         2.5584e-01, -3.0191e-01, -2.8406e-01,  6.0196e-01,  4.1878e-01,\n",
            "         1.4841e-01, -3.8699e-01,  2.8341e-01, -6.8942e-01, -2.0172e-01,\n",
            "        -2.0396e-01,  1.8102e-01,  1.3079e-01, -1.8517e-01,  2.8883e-02,\n",
            "        -1.0192e+00, -2.3253e-01, -9.1987e-02, -3.9819e-01,  4.2036e-01,\n",
            "        -1.1434e-01, -9.1594e-02,  2.5977e-01,  4.1907e-01,  1.4733e-01,\n",
            "        -1.5224e-01,  5.3547e-01,  3.8597e-01, -1.5026e-01, -4.0825e-02,\n",
            "         4.2825e-01,  1.1758e-01, -6.1290e-01, -3.5895e-01,  2.7857e-01,\n",
            "         4.7956e-02, -1.9168e-01, -4.3195e-01,  1.7011e-01,  9.0081e-01,\n",
            "         9.3593e-04, -1.5570e-01, -1.1236e-01, -8.5755e-01, -3.2415e-01,\n",
            "         2.2771e-01,  4.7075e-01,  5.6938e-01, -3.6467e-01, -3.8349e-01,\n",
            "         6.0849e-01, -6.7862e-02, -2.7697e-01, -2.6181e-01,  2.0711e-01,\n",
            "        -1.7239e-01,  1.0142e-01, -4.0108e-01,  1.0834e+00,  3.8632e-01,\n",
            "        -1.5082e-02, -1.0748e-01, -3.7248e-01,  5.2038e-01, -9.7549e-03,\n",
            "         2.5716e-01,  4.7434e-01,  2.4741e-02,  4.6363e-01,  3.7485e-01,\n",
            "        -1.2034e-01,  1.1309e-01, -4.0832e-01,  3.5328e-01, -2.3796e-01,\n",
            "        -2.6235e-01, -3.3904e-01,  4.2029e-03, -2.9206e-01, -3.2247e-01,\n",
            "         4.8087e-01, -3.6535e-01,  2.8364e-01, -4.3022e-01, -5.9398e-01,\n",
            "        -6.2144e-02, -3.5418e-01,  3.0005e-01,  1.2463e-01, -1.6818e-01,\n",
            "        -3.3186e-01,  1.0487e-01,  1.5372e-01,  3.9331e-01, -3.5556e-01,\n",
            "        -1.9828e-01, -2.5623e-01, -6.8318e-01, -2.2082e-01, -1.2645e-01,\n",
            "        -3.9754e-01, -3.1835e-01, -8.2456e-02,  3.0297e-01, -9.8800e-01,\n",
            "        -3.4415e-01, -2.5088e-01, -6.0106e-01, -6.0924e-02,  3.0798e-01,\n",
            "        -1.0713e-01, -3.2568e-01, -5.5864e-01,  3.6031e-01,  3.8076e-01,\n",
            "         4.4914e-01,  2.7941e-01,  5.3810e-03, -2.7094e-01,  2.2471e-01,\n",
            "         2.5032e-01, -5.3549e-02,  2.5215e-01, -7.6544e-02,  5.9827e-01,\n",
            "        -1.0242e-01,  7.1356e-02, -6.5258e-01, -1.5037e-02,  6.4881e-01,\n",
            "        -3.2767e-01, -2.8790e-01, -6.3117e+00,  1.4605e-02,  2.2918e-01,\n",
            "         3.1818e-01, -4.4514e-01, -2.9302e-01,  1.5717e-01,  4.8567e-01,\n",
            "         4.2989e-01,  7.3050e-01, -5.6314e-01,  4.3163e-01, -7.2131e-02,\n",
            "        -1.3200e-02, -3.6557e-01, -2.3510e-02,  1.1710e-01,  2.2396e-01,\n",
            "         1.7964e-01,  7.3194e-01, -1.9972e-01,  2.4620e-01,  2.4538e-01,\n",
            "         2.6267e-01,  5.9170e-01,  9.3941e-02, -2.1979e-01,  1.6274e-01,\n",
            "         2.6758e-01, -1.6131e-01,  3.9877e-01,  3.4146e-01,  2.3398e-01,\n",
            "         2.6846e-02, -7.4960e-02, -3.5691e-03,  2.4046e-01,  1.4732e-01,\n",
            "        -2.0353e-01, -7.1379e-01, -4.1996e-01, -7.8174e-02,  6.1358e-01,\n",
            "         8.9912e-01,  5.5645e-02,  3.2696e-01,  5.3226e-02, -4.3165e-01,\n",
            "         2.4647e-01,  4.8073e-01,  9.0347e-01,  9.8904e-01, -1.2690e-01,\n",
            "        -1.4391e-01, -6.9503e-01,  2.8584e-01, -4.3895e-01,  3.2708e-01,\n",
            "         5.4151e-01, -1.2695e-01,  1.6672e-01, -4.5725e-02,  3.7171e-01,\n",
            "        -7.6174e-01, -1.5569e-01, -4.6506e-01, -6.3067e-01, -5.0933e-01,\n",
            "         7.2255e-01, -1.0200e-01, -4.2275e-01,  8.4017e-02,  1.5463e-01,\n",
            "         1.1818e-01,  5.4509e-02, -9.1353e-04, -5.1687e-01,  7.6224e-01,\n",
            "         2.7317e-01,  4.0584e-01, -8.2208e-02,  9.1891e-02,  1.9910e-01,\n",
            "        -4.7239e-01, -1.5349e-01,  3.0995e-01,  1.1650e-01,  6.7272e-01,\n",
            "        -7.0062e-02,  8.7194e-01,  3.4599e-01, -8.1636e-01, -3.4033e-01,\n",
            "         7.0107e-02, -3.7695e-01,  7.6217e-02,  1.7209e-02,  2.8886e-01,\n",
            "        -8.3193e-01,  1.7390e-01, -7.5434e-04,  3.4551e-01,  3.9559e-01,\n",
            "        -2.5203e-01, -9.3633e-02, -1.2584e-02,  3.7949e-01,  4.5428e-01,\n",
            "        -1.8159e-01, -2.7190e-01, -9.4125e-02,  9.3792e-03,  1.0298e-01,\n",
            "         2.4423e-01, -7.6690e-02,  3.6940e-02,  3.2247e-01,  3.0043e-01,\n",
            "         3.1893e-01,  1.8654e-01,  3.7224e-01,  3.6523e-01,  2.7424e-01,\n",
            "         3.6071e-01,  1.9575e-01, -9.1559e-02,  5.4680e-01, -5.1734e-01,\n",
            "        -8.3201e-02, -4.2357e-01,  4.4441e-01,  1.6764e-01, -1.2610e-01,\n",
            "        -1.6931e-01,  7.3893e-02,  1.1444e-02,  8.2775e-01, -4.6657e-01,\n",
            "        -8.3781e-03, -3.4247e-02, -1.3242e-01, -1.5767e-01,  4.1020e-01,\n",
            "        -2.5342e-02,  8.9350e-02, -3.4841e-01, -3.0071e-01, -6.5171e-01,\n",
            "        -1.1737e+00,  7.8649e-01, -7.3490e-01, -1.9745e-02, -6.9819e-02,\n",
            "        -4.7514e-01, -1.7950e-01,  3.7789e-02,  4.5874e-01, -6.7089e-01,\n",
            "        -2.8233e-01,  3.3484e-01, -1.4716e-01,  1.2286e-02,  6.0447e-01,\n",
            "        -1.0684e-01,  9.5884e-03,  9.7918e-02, -3.5678e-01,  2.2661e-01,\n",
            "        -6.7864e-03, -3.9119e-01, -5.9903e-01,  3.5513e-01,  2.5161e-01,\n",
            "         3.0076e-01, -3.4322e-01, -5.5754e-01, -3.0718e-02,  4.8672e-01,\n",
            "        -8.7417e-02, -2.1497e-01,  8.6629e-02, -2.5966e-02, -7.0117e-01,\n",
            "        -3.9154e-01,  4.0036e-01,  3.9919e-01, -9.5075e-02, -2.4759e-01,\n",
            "        -2.5209e-01, -2.4404e-02, -4.6498e-01, -3.5023e-01, -6.9786e-01,\n",
            "         5.0153e-02,  2.6102e-01,  6.0125e-02,  3.4198e-01, -3.0672e-02,\n",
            "         2.8086e-01,  2.6856e-01,  3.0297e-01, -3.2264e-01,  1.7416e-01,\n",
            "        -3.5032e-01,  5.3744e-02, -1.8095e-01,  2.5534e-01,  2.7426e-01,\n",
            "        -3.7118e-01,  6.9683e-01,  5.4385e-02], grad_fn=<SqueezeBackward0>)\n"
          ]
        }
      ],
      "source": [
        "# Input words\n",
        "word1 = \"gene\"\n",
        "\n",
        "# Get embeddings for word1\n",
        "inputs1 = tokenizer(word1, return_tensors='pt')\n",
        "outputs1 = model(**inputs1)\n",
        "embedding1 = outputs1.last_hidden_state.mean(dim=1).squeeze()\n",
        "\n",
        "print(embedding1)"
      ],
      "id": "X_s1qHBTGxTi"
    },
    {
      "cell_type": "code",
      "execution_count": null,
      "metadata": {
        "colab": {
          "base_uri": "https://localhost:8080/"
        },
        "id": "tipV7owoHLvw",
        "outputId": "3ca37d62-ddde-470a-a078-8041d31c6597"
      },
      "outputs": [
        {
          "name": "stdout",
          "output_type": "stream",
          "text": [
            "Closest words to 'gene':\n",
            "gene\n",
            "genes\n",
            "Gene\n",
            "genetic\n",
            "genetically\n",
            "genetics\n",
            "inherited\n",
            "intro\n",
            "null\n",
            "sequence\n"
          ]
        }
      ],
      "source": [
        "import torch\n",
        "from transformers import AutoTokenizer, AutoModel\n",
        "from sklearn.neighbors import NearestNeighbors\n",
        "\n",
        "# Set up BioBERT tokenizer and model\n",
        "tokenizer = AutoTokenizer.from_pretrained(\"dmis-lab/biobert-v1.1\")\n",
        "model = AutoModel.from_pretrained(\"dmis-lab/biobert-v1.1\")\n",
        "\n",
        "# Get the full BioBERT vocabulary\n",
        "vocab = tokenizer.get_vocab()\n",
        "\n",
        "# Input words\n",
        "word1 = \"gene\"\n",
        "\n",
        "# Get embeddings for word1\n",
        "inputs1 = tokenizer(word1, return_tensors='pt')\n",
        "outputs1 = model(**inputs1)\n",
        "embedding1 = outputs1.last_hidden_state.mean(dim=1).squeeze().detach().numpy()\n",
        "\n",
        "# Find the embeddings and words for all words in the vocabulary\n",
        "words = list(vocab.keys())\n",
        "# [:50]\n",
        "\n",
        "\n",
        "vocab_embeddings = {}\n",
        "for word in words:\n",
        "    if len(word) >= 2:\n",
        "        inputs = tokenizer(word, return_tensors='pt')\n",
        "        outputs = model(**inputs)\n",
        "        embedding = outputs.last_hidden_state.mean(dim=1).squeeze().detach().numpy()\n",
        "        vocab_embeddings[word] = embedding\n",
        "\n",
        "# Use KNN to find the most similar words to the input word\n",
        "n_neighbors = 10\n",
        "nn = NearestNeighbors(n_neighbors=n_neighbors, metric='cosine')\n",
        "nn.fit(list(vocab_embeddings.values()))\n",
        "distances, indices = nn.kneighbors([embedding1])\n",
        "\n",
        "# Print the closest words to the input word\n",
        "print(\"Closest words to '%s':\" % word1)\n",
        "for i in range(n_neighbors):\n",
        "    print(list(vocab_embeddings.keys())[indices[0][i]])"
      ],
      "id": "tipV7owoHLvw"
    },
    {
      "cell_type": "code",
      "execution_count": null,
      "metadata": {
        "colab": {
          "base_uri": "https://localhost:8080/",
          "height": 375,
          "referenced_widgets": [
            "be7e2fe496954da094c9af5f991bb93a",
            "dc13edd0de2f4d2f8f1cc3d0aeda9762",
            "b6a73a3b6e09468d885121ffa619665d",
            "43c3ed63465b4c7ca26e0cf310bee959",
            "31e9f7b6c28b4568aae301eab5cbdc95",
            "92a6ca4b76fb4de09d76ff19beae2505",
            "66d7fa7f6453428e9b7c7c12e684571e",
            "d180970d86f649259a562cca65d5ada3",
            "c7b398d0b8af483aa7e6204e4115274a",
            "a4d03b1edc944559991ba8a45fd7b81c",
            "2889afa032cb4c0ab66f960a9988e065",
            "f66f54508c29402c945b4b2829bd81a0",
            "85bc6a661a8743308e44dcde5aa707c2",
            "5afd10ee00e1407a990e7d2ec9608a63",
            "fe3a8bc8186743dbb54eabfe1f3fc6c4",
            "937698ceed164420bb0de1df9ebbd54b",
            "b708d49389994c7880ca6fc6ea864198",
            "fd53544415414267baea9c2ebd952390",
            "37e96c3780824b6f8a65c6a011350162",
            "9366a8c723c144d6aa51f26058d063cf",
            "899bfa9002c3416e909da1f8feeb99d9",
            "5ce2a7eb45ce4f3696fd1b0be422e379",
            "7b68bb383614440f9fbadb493366728f",
            "42f06394f18346c5a1494c1ffa75854e",
            "52c5696d7a0c4959ba7effee2b4bbd47",
            "a1ebac54a32f4ea39ee94f24120295de",
            "026c14fe894e475bbc1009425eec9502",
            "55e783a1b5e84f53bf35bcb639141fb1",
            "3454678ce8234c23a5d12298887b9d65",
            "e184def02ae9449b9f7ea94cc5c4f8d6",
            "def61e28302341e8b0e8cb0285980594",
            "d6531d3f201743698a090ab947b00976",
            "bd9d0f1e637f4f3080d425545ca83f41",
            "046a1a87c9764655a3e8e1ae2f70527e",
            "b4d658d7e6724b1bb2c93da3564f234f",
            "5e9aaf9880164e5ab1f07ea3096d80b8",
            "4df2e51c8a344359949fca9b67dcff92",
            "300f5a825eeb40fbbe611cb825be604b",
            "2f17a1f33f704bd79fd1e8dea86ab5cf",
            "a93a958f1430468f8babd6181cc3d4a0",
            "34e4095625fa4c98b6e63026623fbf84",
            "62aff1701bf94a0aaa8ec8966b1d7e3e",
            "a9b390009ad9407a8b71f77669a285b8",
            "852bb3bffa894dd29df889959e8e7da7",
            "a04c1fec58164204af244a404492c72d",
            "9281271aa6714e46bb6fe07b5b7fa3f1",
            "76d729e1d5f746d78f493222a78e19e7",
            "5e94edff9fe340388b51a3a19c3faf7b",
            "ff29df27c9454c03905cdf35cc2a9748",
            "a3429e996e52491e9e58a093c87beef7",
            "1e2c670eb2f349a8905ff79dae03d39f",
            "a046efcf17004b4c8287438c7c824684",
            "b88bb57388be416ead02b4cf730cfa43",
            "67dfe23d483a457db2b58b30910eb2a6",
            "a0758ea430764ea0a02ce72c23836330"
          ]
        },
        "id": "sbuKPFPr-Iqf",
        "outputId": "3e2454c6-b029-40ed-856f-08202661a97a"
      },
      "outputs": [
        {
          "data": {
            "application/vnd.jupyter.widget-view+json": {
              "model_id": "be7e2fe496954da094c9af5f991bb93a",
              "version_major": 2,
              "version_minor": 0
            },
            "text/plain": [
              "Downloading (…)okenizer_config.json:   0%|          | 0.00/49.0 [00:00<?, ?B/s]"
            ]
          },
          "metadata": {},
          "output_type": "display_data"
        },
        {
          "data": {
            "application/vnd.jupyter.widget-view+json": {
              "model_id": "f66f54508c29402c945b4b2829bd81a0",
              "version_major": 2,
              "version_minor": 0
            },
            "text/plain": [
              "Downloading (…)lve/main/config.json:   0%|          | 0.00/462 [00:00<?, ?B/s]"
            ]
          },
          "metadata": {},
          "output_type": "display_data"
        },
        {
          "data": {
            "application/vnd.jupyter.widget-view+json": {
              "model_id": "7b68bb383614440f9fbadb493366728f",
              "version_major": 2,
              "version_minor": 0
            },
            "text/plain": [
              "Downloading (…)solve/main/vocab.txt:   0%|          | 0.00/213k [00:00<?, ?B/s]"
            ]
          },
          "metadata": {},
          "output_type": "display_data"
        },
        {
          "data": {
            "application/vnd.jupyter.widget-view+json": {
              "model_id": "046a1a87c9764655a3e8e1ae2f70527e",
              "version_major": 2,
              "version_minor": 0
            },
            "text/plain": [
              "Downloading (…)cial_tokens_map.json:   0%|          | 0.00/112 [00:00<?, ?B/s]"
            ]
          },
          "metadata": {},
          "output_type": "display_data"
        },
        {
          "data": {
            "application/vnd.jupyter.widget-view+json": {
              "model_id": "a04c1fec58164204af244a404492c72d",
              "version_major": 2,
              "version_minor": 0
            },
            "text/plain": [
              "Downloading pytorch_model.bin:   0%|          | 0.00/433M [00:00<?, ?B/s]"
            ]
          },
          "metadata": {},
          "output_type": "display_data"
        },
        {
          "name": "stdout",
          "output_type": "stream",
          "text": [
            "Closest words to 'gene':\n",
            "gene 0.0\n",
            "genes 0.01834166\n",
            "Gene 0.02481246\n",
            "genetic 0.04397899\n",
            "genetically 0.04930961\n",
            "genetics 0.049490213\n",
            "inherited 0.050530434\n",
            "intro 0.052009583\n",
            "null 0.05210197\n",
            "sequence 0.0525316\n"
          ]
        }
      ],
      "source": [
        "import torch\n",
        "from transformers import AutoTokenizer, AutoModel\n",
        "from sklearn.neighbors import NearestNeighbors\n",
        "\n",
        "# Set up BioBERT tokenizer and model\n",
        "tokenizer = AutoTokenizer.from_pretrained(\"dmis-lab/biobert-v1.1\")\n",
        "model = AutoModel.from_pretrained(\"dmis-lab/biobert-v1.1\")\n",
        "\n",
        "# Get the full BioBERT vocabulary\n",
        "vocab = tokenizer.get_vocab()\n",
        "\n",
        "# Input words\n",
        "word1 = \"AT4G12900\"\n",
        "\n",
        "# Get embeddings for word1\n",
        "inputs1 = tokenizer(word1, return_tensors='pt')\n",
        "outputs1 = model(**inputs1)\n",
        "embedding1 = outputs1.last_hidden_state.mean(dim=1).squeeze().detach().numpy()\n",
        "\n",
        "# Find the embeddings and words for all words in the vocabulary\n",
        "words = list(vocab.keys())\n",
        "# [:50]\n",
        "\n",
        "vocab_embeddings = {}\n",
        "for word in words:\n",
        "    if len(word) >= 2:\n",
        "        inputs = tokenizer(word, return_tensors='pt')\n",
        "        outputs = model(**inputs)\n",
        "        embedding = outputs.last_hidden_state.mean(dim=1).squeeze().detach().numpy()\n",
        "        vocab_embeddings[word] = embedding\n",
        "\n",
        "# Use KNN to find the most similar words to the input word\n",
        "n_neighbors = 10\n",
        "nn = NearestNeighbors(n_neighbors=n_neighbors, metric='cosine')\n",
        "nn.fit(list(vocab_embeddings.values()))\n",
        "distances, indices = nn.kneighbors([embedding1], return_distance=True)\n",
        "\n",
        "# Print the closest words and their cosine similarities to the input word\n",
        "print(\"Closest words to '%s':\" % word1)\n",
        "for i in range(n_neighbors):\n",
        "    print(list(vocab_embeddings.keys())[indices[0][i]], distances[0][i])\n"
      ],
      "id": "sbuKPFPr-Iqf"
    },
    {
      "cell_type": "code",
      "execution_count": null,
      "metadata": {
        "colab": {
          "base_uri": "https://localhost:8080/",
          "height": 516
        },
        "id": "ENsUg7GSqAsa",
        "outputId": "aa323acf-87e6-4c71-b08e-97b72a8ecd8b"
      },
      "outputs": [
        {
          "data": {
            "image/png": "[encoded data removed]",
            "text/plain": [
              "<Figure size 640x480 with 1 Axes>"
            ]
          },
          "metadata": {},
          "output_type": "display_data"
        }
      ],
      "source": [
        "import networkx as nx\n",
        "\n",
        "# Create a networkx graph\n",
        "G = nx.Graph()\n",
        "\n",
        "# Add nodes for each word, with the input word as the central node\n",
        "G.add_node(word1, label=word1, color='red', size=100)\n",
        "\n",
        "# Add edges between the input word and its nearest neighbors, with edge weight equal to the cosine distance\n",
        "for i in range(n_neighbors):\n",
        "    neighbor_word = list(vocab_embeddings.keys())[indices[0][i]]\n",
        "    neighbor_distance = distances[0][i]\n",
        "    G.add_node(neighbor_word, label=neighbor_word, color='blue', size=50)\n",
        "    G.add_edge(word1, neighbor_word, weight=neighbor_distance)\n",
        "\n",
        "# Visualize the graph\n",
        "pos = nx.spring_layout(G, seed=42) # Layout the nodes using the spring layout algorithm\n",
        "nx.draw(G, pos, with_labels=True, node_size=[G.nodes[node]['size'] for node in G], node_color=[G.nodes[node]['color'] for node in G], edge_color='gray', width=2, font_size=14, font_weight='bold')\n",
        "nx.draw_networkx_edge_labels(G, pos, edge_labels={(word1, neighbor_word): round(weight, 2) for (word1, neighbor_word, weight) in G.edges(data='weight')}, font_size=12, font_weight='bold')\n",
        "plt.show()\n"
      ],
      "id": "ENsUg7GSqAsa"
    },
    {
      "cell_type": "markdown",
      "metadata": {
        "id": "FlXwTCPM_Pbf"
      },
      "source": [
        "# **Just the distances to nearest neighbors of the input word (gene) with the nearest being on the left hand side**"
      ],
      "id": "FlXwTCPM_Pbf"
    },
    {
      "cell_type": "code",
      "execution_count": null,
      "metadata": {
        "colab": {
          "base_uri": "https://localhost:8080/",
          "height": 592
        },
        "id": "fv2SaIMS-BKN",
        "outputId": "9bf4b84d-196f-458d-d151-fb71abf82bc3"
      },
      "outputs": [
        {
          "data": {
            "image/png": "[encoded data removed]",
            "text/plain": [
              "<Figure size 800x600 with 1 Axes>"
            ]
          },
          "metadata": {},
          "output_type": "display_data"
        }
      ],
      "source": [
        "# Plot the distances of each word to the input word\n",
        "distances = distances[0]\n",
        "plt.figure(figsize=(8, 6))\n",
        "plt.bar(range(len(indices[0])), distances, color='blue')\n",
        "plt.xlabel('Index of nearest neighbor')\n",
        "plt.ylabel('Cosine distance')\n",
        "plt.title('Distances to nearest neighbors of %s' % word1)\n",
        "plt.show()"
      ],
      "id": "fv2SaIMS-BKN"
    },
    {
      "cell_type": "code",
      "execution_count": null,
      "metadata": {
        "colab": {
          "base_uri": "https://localhost:8080/",
          "height": 386
        },
        "id": "7z4N4e_w99qw",
        "outputId": "23f548b1-90a0-462d-852d-590c7bb5955a"
      },
      "outputs": [
        {
          "ename": "ModuleNotFoundError",
          "evalue": "ignored",
          "output_type": "error",
          "traceback": [
            "\u001b[0;31m---------------------------------------------------------------------------\u001b[0m",
            "\u001b[0;31mModuleNotFoundError\u001b[0m                       Traceback (most recent call last)",
            "\u001b[0;32m<ipython-input-1-c8fd745b2488>\u001b[0m in \u001b[0;36m<cell line: 2>\u001b[0;34m()\u001b[0m\n\u001b[1;32m      1\u001b[0m \u001b[0;32mimport\u001b[0m \u001b[0mtorch\u001b[0m\u001b[0;34m\u001b[0m\u001b[0;34m\u001b[0m\u001b[0m\n\u001b[0;32m----> 2\u001b[0;31m \u001b[0;32mfrom\u001b[0m \u001b[0mtransformers\u001b[0m \u001b[0;32mimport\u001b[0m \u001b[0mAutoTokenizer\u001b[0m\u001b[0;34m,\u001b[0m \u001b[0mAutoModel\u001b[0m\u001b[0;34m\u001b[0m\u001b[0;34m\u001b[0m\u001b[0m\n\u001b[0m\u001b[1;32m      3\u001b[0m \u001b[0;32mfrom\u001b[0m \u001b[0msklearn\u001b[0m\u001b[0;34m.\u001b[0m\u001b[0mneighbors\u001b[0m \u001b[0;32mimport\u001b[0m \u001b[0mNearestNeighbors\u001b[0m\u001b[0;34m\u001b[0m\u001b[0;34m\u001b[0m\u001b[0m\n\u001b[1;32m      4\u001b[0m \u001b[0;32mimport\u001b[0m \u001b[0mmatplotlib\u001b[0m\u001b[0;34m.\u001b[0m\u001b[0mpyplot\u001b[0m \u001b[0;32mas\u001b[0m \u001b[0mplt\u001b[0m\u001b[0;34m\u001b[0m\u001b[0;34m\u001b[0m\u001b[0m\n\u001b[1;32m      5\u001b[0m \u001b[0;34m\u001b[0m\u001b[0m\n",
            "\u001b[0;31mModuleNotFoundError\u001b[0m: No module named 'transformers'",
            "",
            "\u001b[0;31m---------------------------------------------------------------------------\u001b[0;32m\nNOTE: If your import is failing due to a missing package, you can\nmanually install dependencies using either !pip or !apt.\n\nTo view examples of installing some common dependencies, click the\n\"Open Examples\" button below.\n\u001b[0;31m---------------------------------------------------------------------------\u001b[0m\n"
          ]
        }
      ],
      "source": [
        "import torch\n",
        "from transformers import AutoTokenizer, AutoModel\n",
        "from sklearn.neighbors import NearestNeighbors\n",
        "import matplotlib.pyplot as plt\n",
        "\n",
        "# Set up BioBERT tokenizer and model\n",
        "tokenizer = AutoTokenizer.from_pretrained(\"dmis-lab/biobert-v1.1\")\n",
        "model = AutoModel.from_pretrained(\"dmis-lab/biobert-v1.1\")\n",
        "\n",
        "# Get the full BioBERT vocabulary\n",
        "vocab = tokenizer.get_vocab()\n",
        "\n",
        "# Input words\n",
        "word1 = \"gene\"\n",
        "\n",
        "# Get embeddings for word1\n",
        "inputs1 = tokenizer(word1, return_tensors='pt')\n",
        "outputs1 = model(**inputs1)\n",
        "embedding1 = outputs1.last_hidden_state.mean(dim=1).squeeze().detach().numpy()\n",
        "\n",
        "# Find the embeddings and words for all words in the vocabulary\n",
        "words = list(vocab.keys())\n",
        "# [:50]\n",
        "\n",
        "\n",
        "vocab_embeddings = {}\n",
        "for word in words:\n",
        "    if len(word) >= 2:\n",
        "        inputs = tokenizer(word, return_tensors='pt')\n",
        "        outputs = model(**inputs)\n",
        "        embedding = outputs.last_hidden_state.mean(dim=1).squeeze().detach().numpy()\n",
        "        vocab_embeddings[word] = embedding\n",
        "\n",
        "# Use KNN to find the most similar words to the input word\n",
        "n_neighbors = 10\n",
        "nn = NearestNeighbors(n_neighbors=n_neighbors, metric='cosine')\n",
        "nn.fit(list(vocab_embeddings.values()))\n",
        "distances, indices = nn.kneighbors([embedding1])\n",
        "\n",
        "# Plot the word vectors for the input word and its nearest neighbors\n",
        "fig, ax = plt.subplots(figsize=(8, 8))\n",
        "ax.scatter(embedding1[0], embedding1[1], c='red', label=word1)\n",
        "for i in range(n_neighbors):\n",
        "    neighbor_word = list(vocab_embeddings.keys())[indices[0][i]]\n",
        "    neighbor_embedding = vocab_embeddings[neighbor_word]\n",
        "    ax.scatter(neighbor_embedding[0], neighbor_embedding[1], label=neighbor_word)\n",
        "ax.legend()\n",
        "plt.show()\n"
      ],
      "id": "7z4N4e_w99qw"
    },
    {
      "cell_type": "code",
      "execution_count": null,
      "metadata": {
        "colab": {
          "base_uri": "https://localhost:8080/"
        },
        "id": "yTX96Wdx4hx6",
        "outputId": "1fd45406-246b-41fa-fe14-26e887072ed5"
      },
      "outputs": [
        {
          "name": "stdout",
          "output_type": "stream",
          "text": [
            "28996\n"
          ]
        }
      ],
      "source": [
        "vocab = tokenizer.get_vocab()\n",
        "print(len(vocab))"
      ],
      "id": "yTX96Wdx4hx6"
    },
    {
      "cell_type": "code",
      "execution_count": null,
      "metadata": {
        "colab": {
          "base_uri": "https://localhost:8080/"
        },
        "id": "uV3Rxt1-UhTM",
        "outputId": "e9efd9af-1346-4f3b-d172-48a654dd910c"
      },
      "outputs": [
        {
          "name": "stdout",
          "output_type": "stream",
          "text": [
            "There are no duplicates in the list.\n"
          ]
        }
      ],
      "source": [
        "\n",
        "if len(vocab) == len(set(vocab)):\n",
        "    print(\"There are no duplicates in the list.\")\n",
        "else:\n",
        "    print(\"There are duplicates in the list.\")"
      ],
      "id": "uV3Rxt1-UhTM"
    },
    {
      "cell_type": "markdown",
      "metadata": {
        "id": "m0v4OT1SGlK8"
      },
      "source": [],
      "id": "m0v4OT1SGlK8"
    },
    {
      "cell_type": "markdown",
      "metadata": {
        "id": "rzkOyHYE_Gw_"
      },
      "source": [],
      "id": "rzkOyHYE_Gw_"
    }
  ],
  "metadata": {
    "colab": {
      "provenance": []
    },
    "kernelspec": {
      "display_name": "Python 3.8.8 ('base')",
      "language": "python",
      "name": "python3"
    },
    "language_info": {
      "codemirror_mode": {
        "name": "ipython",
        "version": 3
      },
      "file_extension": ".py",
      "mimetype": "text/x-python",
      "name": "python",
      "nbconvert_exporter": "python",
      "pygments_lexer": "ipython3",
      "version": "3.8.8"
    },
    "vscode": {
      "interpreter": {
        "hash": "f4bc7a400e35f160b13ed52195005e41b219907c1be09b125a1c17e685484faa"
      }
    },
    "widgets": {
      "application/vnd.jupyter.widget-state+json": {
        "026c14fe894e475bbc1009425eec9502": {
          "model_module": "@jupyter-widgets/base",
          "model_module_version": "1.2.0",
          "model_name": "LayoutModel",
          "state": {
            "_model_module": "@jupyter-widgets/base",
            "_model_module_version": "1.2.0",
            "_model_name": "LayoutModel",
            "_view_count": null,
            "_view_module": "@jupyter-widgets/base",
            "_view_module_version": "1.2.0",
            "_view_name": "LayoutView",
            "align_content": null,
            "align_items": null,
            "align_self": null,
            "border": null,
            "bottom": null,
            "display": null,
            "flex": null,
            "flex_flow": null,
            "grid_area": null,
            "grid_auto_columns": null,
            "grid_auto_flow": null,
            "grid_auto_rows": null,
            "grid_column": null,
            "grid_gap": null,
            "grid_row": null,
            "grid_template_areas": null,
            "grid_template_columns": null,
            "grid_template_rows": null,
            "height": null,
            "justify_content": null,
            "justify_items": null,
            "left": null,
            "margin": null,
            "max_height": null,
            "max_width": null,
            "min_height": null,
            "min_width": null,
            "object_fit": null,
            "object_position": null,
            "order": null,
            "overflow": null,
            "overflow_x": null,
            "overflow_y": null,
            "padding": null,
            "right": null,
            "top": null,
            "visibility": null,
            "width": null
          }
        },
        "046a1a87c9764655a3e8e1ae2f70527e": {
          "model_module": "@jupyter-widgets/controls",
          "model_module_version": "1.5.0",
          "model_name": "HBoxModel",
          "state": {
            "_dom_classes": [],
            "_model_module": "@jupyter-widgets/controls",
            "_model_module_version": "1.5.0",
            "_model_name": "HBoxModel",
            "_view_count": null,
            "_view_module": "@jupyter-widgets/controls",
            "_view_module_version": "1.5.0",
            "_view_name": "HBoxView",
            "box_style": "",
            "children": [
              "IPY_MODEL_b4d658d7e6724b1bb2c93da3564f234f",
              "IPY_MODEL_5e9aaf9880164e5ab1f07ea3096d80b8",
              "IPY_MODEL_4df2e51c8a344359949fca9b67dcff92"
            ],
            "layout": "IPY_MODEL_300f5a825eeb40fbbe611cb825be604b"
          }
        },
        "1e2c670eb2f349a8905ff79dae03d39f": {
          "model_module": "@jupyter-widgets/controls",
          "model_module_version": "1.5.0",
          "model_name": "DescriptionStyleModel",
          "state": {
            "_model_module": "@jupyter-widgets/controls",
            "_model_module_version": "1.5.0",
            "_model_name": "DescriptionStyleModel",
            "_view_count": null,
            "_view_module": "@jupyter-widgets/base",
            "_view_module_version": "1.2.0",
            "_view_name": "StyleView",
            "description_width": ""
          }
        },
        "2889afa032cb4c0ab66f960a9988e065": {
          "model_module": "@jupyter-widgets/controls",
          "model_module_version": "1.5.0",
          "model_name": "DescriptionStyleModel",
          "state": {
            "_model_module": "@jupyter-widgets/controls",
            "_model_module_version": "1.5.0",
            "_model_name": "DescriptionStyleModel",
            "_view_count": null,
            "_view_module": "@jupyter-widgets/base",
            "_view_module_version": "1.2.0",
            "_view_name": "StyleView",
            "description_width": ""
          }
        },
        "2f17a1f33f704bd79fd1e8dea86ab5cf": {
          "model_module": "@jupyter-widgets/base",
          "model_module_version": "1.2.0",
          "model_name": "LayoutModel",
          "state": {
            "_model_module": "@jupyter-widgets/base",
            "_model_module_version": "1.2.0",
            "_model_name": "LayoutModel",
            "_view_count": null,
            "_view_module": "@jupyter-widgets/base",
            "_view_module_version": "1.2.0",
            "_view_name": "LayoutView",
            "align_content": null,
            "align_items": null,
            "align_self": null,
            "border": null,
            "bottom": null,
            "display": null,
            "flex": null,
            "flex_flow": null,
            "grid_area": null,
            "grid_auto_columns": null,
            "grid_auto_flow": null,
            "grid_auto_rows": null,
            "grid_column": null,
            "grid_gap": null,
            "grid_row": null,
            "grid_template_areas": null,
            "grid_template_columns": null,
            "grid_template_rows": null,
            "height": null,
            "justify_content": null,
            "justify_items": null,
            "left": null,
            "margin": null,
            "max_height": null,
            "max_width": null,
            "min_height": null,
            "min_width": null,
            "object_fit": null,
            "object_position": null,
            "order": null,
            "overflow": null,
            "overflow_x": null,
            "overflow_y": null,
            "padding": null,
            "right": null,
            "top": null,
            "visibility": null,
            "width": null
          }
        },
        "300f5a825eeb40fbbe611cb825be604b": {
          "model_module": "@jupyter-widgets/base",
          "model_module_version": "1.2.0",
          "model_name": "LayoutModel",
          "state": {
            "_model_module": "@jupyter-widgets/base",
            "_model_module_version": "1.2.0",
            "_model_name": "LayoutModel",
            "_view_count": null,
            "_view_module": "@jupyter-widgets/base",
            "_view_module_version": "1.2.0",
            "_view_name": "LayoutView",
            "align_content": null,
            "align_items": null,
            "align_self": null,
            "border": null,
            "bottom": null,
            "display": null,
            "flex": null,
            "flex_flow": null,
            "grid_area": null,
            "grid_auto_columns": null,
            "grid_auto_flow": null,
            "grid_auto_rows": null,
            "grid_column": null,
            "grid_gap": null,
            "grid_row": null,
            "grid_template_areas": null,
            "grid_template_columns": null,
            "grid_template_rows": null,
            "height": null,
            "justify_content": null,
            "justify_items": null,
            "left": null,
            "margin": null,
            "max_height": null,
            "max_width": null,
            "min_height": null,
            "min_width": null,
            "object_fit": null,
            "object_position": null,
            "order": null,
            "overflow": null,
            "overflow_x": null,
            "overflow_y": null,
            "padding": null,
            "right": null,
            "top": null,
            "visibility": null,
            "width": null
          }
        },
        "31e9f7b6c28b4568aae301eab5cbdc95": {
          "model_module": "@jupyter-widgets/base",
          "model_module_version": "1.2.0",
          "model_name": "LayoutModel",
          "state": {
            "_model_module": "@jupyter-widgets/base",
            "_model_module_version": "1.2.0",
            "_model_name": "LayoutModel",
            "_view_count": null,
            "_view_module": "@jupyter-widgets/base",
            "_view_module_version": "1.2.0",
            "_view_name": "LayoutView",
            "align_content": null,
            "align_items": null,
            "align_self": null,
            "border": null,
            "bottom": null,
            "display": null,
            "flex": null,
            "flex_flow": null,
            "grid_area": null,
            "grid_auto_columns": null,
            "grid_auto_flow": null,
            "grid_auto_rows": null,
            "grid_column": null,
            "grid_gap": null,
            "grid_row": null,
            "grid_template_areas": null,
            "grid_template_columns": null,
            "grid_template_rows": null,
            "height": null,
            "justify_content": null,
            "justify_items": null,
            "left": null,
            "margin": null,
            "max_height": null,
            "max_width": null,
            "min_height": null,
            "min_width": null,
            "object_fit": null,
            "object_position": null,
            "order": null,
            "overflow": null,
            "overflow_x": null,
            "overflow_y": null,
            "padding": null,
            "right": null,
            "top": null,
            "visibility": null,
            "width": null
          }
        },
        "3454678ce8234c23a5d12298887b9d65": {
          "model_module": "@jupyter-widgets/controls",
          "model_module_version": "1.5.0",
          "model_name": "DescriptionStyleModel",
          "state": {
            "_model_module": "@jupyter-widgets/controls",
            "_model_module_version": "1.5.0",
            "_model_name": "DescriptionStyleModel",
            "_view_count": null,
            "_view_module": "@jupyter-widgets/base",
            "_view_module_version": "1.2.0",
            "_view_name": "StyleView",
            "description_width": ""
          }
        },
        "34e4095625fa4c98b6e63026623fbf84": {
          "model_module": "@jupyter-widgets/base",
          "model_module_version": "1.2.0",
          "model_name": "LayoutModel",
          "state": {
            "_model_module": "@jupyter-widgets/base",
            "_model_module_version": "1.2.0",
            "_model_name": "LayoutModel",
            "_view_count": null,
            "_view_module": "@jupyter-widgets/base",
            "_view_module_version": "1.2.0",
            "_view_name": "LayoutView",
            "align_content": null,
            "align_items": null,
            "align_self": null,
            "border": null,
            "bottom": null,
            "display": null,
            "flex": null,
            "flex_flow": null,
            "grid_area": null,
            "grid_auto_columns": null,
            "grid_auto_flow": null,
            "grid_auto_rows": null,
            "grid_column": null,
            "grid_gap": null,
            "grid_row": null,
            "grid_template_areas": null,
            "grid_template_columns": null,
            "grid_template_rows": null,
            "height": null,
            "justify_content": null,
            "justify_items": null,
            "left": null,
            "margin": null,
            "max_height": null,
            "max_width": null,
            "min_height": null,
            "min_width": null,
            "object_fit": null,
            "object_position": null,
            "order": null,
            "overflow": null,
            "overflow_x": null,
            "overflow_y": null,
            "padding": null,
            "right": null,
            "top": null,
            "visibility": null,
            "width": null
          }
        },
        "37e96c3780824b6f8a65c6a011350162": {
          "model_module": "@jupyter-widgets/base",
          "model_module_version": "1.2.0",
          "model_name": "LayoutModel",
          "state": {
            "_model_module": "@jupyter-widgets/base",
            "_model_module_version": "1.2.0",
            "_model_name": "LayoutModel",
            "_view_count": null,
            "_view_module": "@jupyter-widgets/base",
            "_view_module_version": "1.2.0",
            "_view_name": "LayoutView",
            "align_content": null,
            "align_items": null,
            "align_self": null,
            "border": null,
            "bottom": null,
            "display": null,
            "flex": null,
            "flex_flow": null,
            "grid_area": null,
            "grid_auto_columns": null,
            "grid_auto_flow": null,
            "grid_auto_rows": null,
            "grid_column": null,
            "grid_gap": null,
            "grid_row": null,
            "grid_template_areas": null,
            "grid_template_columns": null,
            "grid_template_rows": null,
            "height": null,
            "justify_content": null,
            "justify_items": null,
            "left": null,
            "margin": null,
            "max_height": null,
            "max_width": null,
            "min_height": null,
            "min_width": null,
            "object_fit": null,
            "object_position": null,
            "order": null,
            "overflow": null,
            "overflow_x": null,
            "overflow_y": null,
            "padding": null,
            "right": null,
            "top": null,
            "visibility": null,
            "width": null
          }
        },
        "42f06394f18346c5a1494c1ffa75854e": {
          "model_module": "@jupyter-widgets/controls",
          "model_module_version": "1.5.0",
          "model_name": "HTMLModel",
          "state": {
            "_dom_classes": [],
            "_model_module": "@jupyter-widgets/controls",
            "_model_module_version": "1.5.0",
            "_model_name": "HTMLModel",
            "_view_count": null,
            "_view_module": "@jupyter-widgets/controls",
            "_view_module_version": "1.5.0",
            "_view_name": "HTMLView",
            "description": "",
            "description_tooltip": null,
            "layout": "IPY_MODEL_55e783a1b5e84f53bf35bcb639141fb1",
            "placeholder": "​",
            "style": "IPY_MODEL_3454678ce8234c23a5d12298887b9d65",
            "value": "Downloading (…)solve/main/vocab.txt: 100%"
          }
        },
        "43c3ed63465b4c7ca26e0cf310bee959": {
          "model_module": "@jupyter-widgets/controls",
          "model_module_version": "1.5.0",
          "model_name": "HTMLModel",
          "state": {
            "_dom_classes": [],
            "_model_module": "@jupyter-widgets/controls",
            "_model_module_version": "1.5.0",
            "_model_name": "HTMLModel",
            "_view_count": null,
            "_view_module": "@jupyter-widgets/controls",
            "_view_module_version": "1.5.0",
            "_view_name": "HTMLView",
            "description": "",
            "description_tooltip": null,
            "layout": "IPY_MODEL_a4d03b1edc944559991ba8a45fd7b81c",
            "placeholder": "​",
            "style": "IPY_MODEL_2889afa032cb4c0ab66f960a9988e065",
            "value": " 49.0/49.0 [00:00&lt;00:00, 2.15kB/s]"
          }
        },
        "4df2e51c8a344359949fca9b67dcff92": {
          "model_module": "@jupyter-widgets/controls",
          "model_module_version": "1.5.0",
          "model_name": "HTMLModel",
          "state": {
            "_dom_classes": [],
            "_model_module": "@jupyter-widgets/controls",
            "_model_module_version": "1.5.0",
            "_model_name": "HTMLModel",
            "_view_count": null,
            "_view_module": "@jupyter-widgets/controls",
            "_view_module_version": "1.5.0",
            "_view_name": "HTMLView",
            "description": "",
            "description_tooltip": null,
            "layout": "IPY_MODEL_a9b390009ad9407a8b71f77669a285b8",
            "placeholder": "​",
            "style": "IPY_MODEL_852bb3bffa894dd29df889959e8e7da7",
            "value": " 112/112 [00:00&lt;00:00, 1.60kB/s]"
          }
        },
        "52c5696d7a0c4959ba7effee2b4bbd47": {
          "model_module": "@jupyter-widgets/controls",
          "model_module_version": "1.5.0",
          "model_name": "FloatProgressModel",
          "state": {
            "_dom_classes": [],
            "_model_module": "@jupyter-widgets/controls",
            "_model_module_version": "1.5.0",
            "_model_name": "FloatProgressModel",
            "_view_count": null,
            "_view_module": "@jupyter-widgets/controls",
            "_view_module_version": "1.5.0",
            "_view_name": "ProgressView",
            "bar_style": "success",
            "description": "",
            "description_tooltip": null,
            "layout": "IPY_MODEL_e184def02ae9449b9f7ea94cc5c4f8d6",
            "max": 213450,
            "min": 0,
            "orientation": "horizontal",
            "style": "IPY_MODEL_def61e28302341e8b0e8cb0285980594",
            "value": 213450
          }
        },
        "55e783a1b5e84f53bf35bcb639141fb1": {
          "model_module": "@jupyter-widgets/base",
          "model_module_version": "1.2.0",
          "model_name": "LayoutModel",
          "state": {
            "_model_module": "@jupyter-widgets/base",
            "_model_module_version": "1.2.0",
            "_model_name": "LayoutModel",
            "_view_count": null,
            "_view_module": "@jupyter-widgets/base",
            "_view_module_version": "1.2.0",
            "_view_name": "LayoutView",
            "align_content": null,
            "align_items": null,
            "align_self": null,
            "border": null,
            "bottom": null,
            "display": null,
            "flex": null,
            "flex_flow": null,
            "grid_area": null,
            "grid_auto_columns": null,
            "grid_auto_flow": null,
            "grid_auto_rows": null,
            "grid_column": null,
            "grid_gap": null,
            "grid_row": null,
            "grid_template_areas": null,
            "grid_template_columns": null,
            "grid_template_rows": null,
            "height": null,
            "justify_content": null,
            "justify_items": null,
            "left": null,
            "margin": null,
            "max_height": null,
            "max_width": null,
            "min_height": null,
            "min_width": null,
            "object_fit": null,
            "object_position": null,
            "order": null,
            "overflow": null,
            "overflow_x": null,
            "overflow_y": null,
            "padding": null,
            "right": null,
            "top": null,
            "visibility": null,
            "width": null
          }
        },
        "5afd10ee00e1407a990e7d2ec9608a63": {
          "model_module": "@jupyter-widgets/controls",
          "model_module_version": "1.5.0",
          "model_name": "FloatProgressModel",
          "state": {
            "_dom_classes": [],
            "_model_module": "@jupyter-widgets/controls",
            "_model_module_version": "1.5.0",
            "_model_name": "FloatProgressModel",
            "_view_count": null,
            "_view_module": "@jupyter-widgets/controls",
            "_view_module_version": "1.5.0",
            "_view_name": "ProgressView",
            "bar_style": "success",
            "description": "",
            "description_tooltip": null,
            "layout": "IPY_MODEL_37e96c3780824b6f8a65c6a011350162",
            "max": 462,
            "min": 0,
            "orientation": "horizontal",
            "style": "IPY_MODEL_9366a8c723c144d6aa51f26058d063cf",
            "value": 462
          }
        },
        "5ce2a7eb45ce4f3696fd1b0be422e379": {
          "model_module": "@jupyter-widgets/controls",
          "model_module_version": "1.5.0",
          "model_name": "DescriptionStyleModel",
          "state": {
            "_model_module": "@jupyter-widgets/controls",
            "_model_module_version": "1.5.0",
            "_model_name": "DescriptionStyleModel",
            "_view_count": null,
            "_view_module": "@jupyter-widgets/base",
            "_view_module_version": "1.2.0",
            "_view_name": "StyleView",
            "description_width": ""
          }
        },
        "5e94edff9fe340388b51a3a19c3faf7b": {
          "model_module": "@jupyter-widgets/controls",
          "model_module_version": "1.5.0",
          "model_name": "HTMLModel",
          "state": {
            "_dom_classes": [],
            "_model_module": "@jupyter-widgets/controls",
            "_model_module_version": "1.5.0",
            "_model_name": "HTMLModel",
            "_view_count": null,
            "_view_module": "@jupyter-widgets/controls",
            "_view_module_version": "1.5.0",
            "_view_name": "HTMLView",
            "description": "",
            "description_tooltip": null,
            "layout": "IPY_MODEL_67dfe23d483a457db2b58b30910eb2a6",
            "placeholder": "​",
            "style": "IPY_MODEL_a0758ea430764ea0a02ce72c23836330",
            "value": " 433M/433M [00:04&lt;00:00, 91.7MB/s]"
          }
        },
        "5e9aaf9880164e5ab1f07ea3096d80b8": {
          "model_module": "@jupyter-widgets/controls",
          "model_module_version": "1.5.0",
          "model_name": "FloatProgressModel",
          "state": {
            "_dom_classes": [],
            "_model_module": "@jupyter-widgets/controls",
            "_model_module_version": "1.5.0",
            "_model_name": "FloatProgressModel",
            "_view_count": null,
            "_view_module": "@jupyter-widgets/controls",
            "_view_module_version": "1.5.0",
            "_view_name": "ProgressView",
            "bar_style": "success",
            "description": "",
            "description_tooltip": null,
            "layout": "IPY_MODEL_34e4095625fa4c98b6e63026623fbf84",
            "max": 112,
            "min": 0,
            "orientation": "horizontal",
            "style": "IPY_MODEL_62aff1701bf94a0aaa8ec8966b1d7e3e",
            "value": 112
          }
        },
        "62aff1701bf94a0aaa8ec8966b1d7e3e": {
          "model_module": "@jupyter-widgets/controls",
          "model_module_version": "1.5.0",
          "model_name": "ProgressStyleModel",
          "state": {
            "_model_module": "@jupyter-widgets/controls",
            "_model_module_version": "1.5.0",
            "_model_name": "ProgressStyleModel",
            "_view_count": null,
            "_view_module": "@jupyter-widgets/base",
            "_view_module_version": "1.2.0",
            "_view_name": "StyleView",
            "bar_color": null,
            "description_width": ""
          }
        },
        "66d7fa7f6453428e9b7c7c12e684571e": {
          "model_module": "@jupyter-widgets/controls",
          "model_module_version": "1.5.0",
          "model_name": "DescriptionStyleModel",
          "state": {
            "_model_module": "@jupyter-widgets/controls",
            "_model_module_version": "1.5.0",
            "_model_name": "DescriptionStyleModel",
            "_view_count": null,
            "_view_module": "@jupyter-widgets/base",
            "_view_module_version": "1.2.0",
            "_view_name": "StyleView",
            "description_width": ""
          }
        },
        "67dfe23d483a457db2b58b30910eb2a6": {
          "model_module": "@jupyter-widgets/base",
          "model_module_version": "1.2.0",
          "model_name": "LayoutModel",
          "state": {
            "_model_module": "@jupyter-widgets/base",
            "_model_module_version": "1.2.0",
            "_model_name": "LayoutModel",
            "_view_count": null,
            "_view_module": "@jupyter-widgets/base",
            "_view_module_version": "1.2.0",
            "_view_name": "LayoutView",
            "align_content": null,
            "align_items": null,
            "align_self": null,
            "border": null,
            "bottom": null,
            "display": null,
            "flex": null,
            "flex_flow": null,
            "grid_area": null,
            "grid_auto_columns": null,
            "grid_auto_flow": null,
            "grid_auto_rows": null,
            "grid_column": null,
            "grid_gap": null,
            "grid_row": null,
            "grid_template_areas": null,
            "grid_template_columns": null,
            "grid_template_rows": null,
            "height": null,
            "justify_content": null,
            "justify_items": null,
            "left": null,
            "margin": null,
            "max_height": null,
            "max_width": null,
            "min_height": null,
            "min_width": null,
            "object_fit": null,
            "object_position": null,
            "order": null,
            "overflow": null,
            "overflow_x": null,
            "overflow_y": null,
            "padding": null,
            "right": null,
            "top": null,
            "visibility": null,
            "width": null
          }
        },
        "76d729e1d5f746d78f493222a78e19e7": {
          "model_module": "@jupyter-widgets/controls",
          "model_module_version": "1.5.0",
          "model_name": "FloatProgressModel",
          "state": {
            "_dom_classes": [],
            "_model_module": "@jupyter-widgets/controls",
            "_model_module_version": "1.5.0",
            "_model_name": "FloatProgressModel",
            "_view_count": null,
            "_view_module": "@jupyter-widgets/controls",
            "_view_module_version": "1.5.0",
            "_view_name": "ProgressView",
            "bar_style": "success",
            "description": "",
            "description_tooltip": null,
            "layout": "IPY_MODEL_a046efcf17004b4c8287438c7c824684",
            "max": 433286112,
            "min": 0,
            "orientation": "horizontal",
            "style": "IPY_MODEL_b88bb57388be416ead02b4cf730cfa43",
            "value": 433286112
          }
        },
        "7b68bb383614440f9fbadb493366728f": {
          "model_module": "@jupyter-widgets/controls",
          "model_module_version": "1.5.0",
          "model_name": "HBoxModel",
          "state": {
            "_dom_classes": [],
            "_model_module": "@jupyter-widgets/controls",
            "_model_module_version": "1.5.0",
            "_model_name": "HBoxModel",
            "_view_count": null,
            "_view_module": "@jupyter-widgets/controls",
            "_view_module_version": "1.5.0",
            "_view_name": "HBoxView",
            "box_style": "",
            "children": [
              "IPY_MODEL_42f06394f18346c5a1494c1ffa75854e",
              "IPY_MODEL_52c5696d7a0c4959ba7effee2b4bbd47",
              "IPY_MODEL_a1ebac54a32f4ea39ee94f24120295de"
            ],
            "layout": "IPY_MODEL_026c14fe894e475bbc1009425eec9502"
          }
        },
        "852bb3bffa894dd29df889959e8e7da7": {
          "model_module": "@jupyter-widgets/controls",
          "model_module_version": "1.5.0",
          "model_name": "DescriptionStyleModel",
          "state": {
            "_model_module": "@jupyter-widgets/controls",
            "_model_module_version": "1.5.0",
            "_model_name": "DescriptionStyleModel",
            "_view_count": null,
            "_view_module": "@jupyter-widgets/base",
            "_view_module_version": "1.2.0",
            "_view_name": "StyleView",
            "description_width": ""
          }
        },
        "85bc6a661a8743308e44dcde5aa707c2": {
          "model_module": "@jupyter-widgets/controls",
          "model_module_version": "1.5.0",
          "model_name": "HTMLModel",
          "state": {
            "_dom_classes": [],
            "_model_module": "@jupyter-widgets/controls",
            "_model_module_version": "1.5.0",
            "_model_name": "HTMLModel",
            "_view_count": null,
            "_view_module": "@jupyter-widgets/controls",
            "_view_module_version": "1.5.0",
            "_view_name": "HTMLView",
            "description": "",
            "description_tooltip": null,
            "layout": "IPY_MODEL_b708d49389994c7880ca6fc6ea864198",
            "placeholder": "​",
            "style": "IPY_MODEL_fd53544415414267baea9c2ebd952390",
            "value": "Downloading (…)lve/main/config.json: 100%"
          }
        },
        "899bfa9002c3416e909da1f8feeb99d9": {
          "model_module": "@jupyter-widgets/base",
          "model_module_version": "1.2.0",
          "model_name": "LayoutModel",
          "state": {
            "_model_module": "@jupyter-widgets/base",
            "_model_module_version": "1.2.0",
            "_model_name": "LayoutModel",
            "_view_count": null,
            "_view_module": "@jupyter-widgets/base",
            "_view_module_version": "1.2.0",
            "_view_name": "LayoutView",
            "align_content": null,
            "align_items": null,
            "align_self": null,
            "border": null,
            "bottom": null,
            "display": null,
            "flex": null,
            "flex_flow": null,
            "grid_area": null,
            "grid_auto_columns": null,
            "grid_auto_flow": null,
            "grid_auto_rows": null,
            "grid_column": null,
            "grid_gap": null,
            "grid_row": null,
            "grid_template_areas": null,
            "grid_template_columns": null,
            "grid_template_rows": null,
            "height": null,
            "justify_content": null,
            "justify_items": null,
            "left": null,
            "margin": null,
            "max_height": null,
            "max_width": null,
            "min_height": null,
            "min_width": null,
            "object_fit": null,
            "object_position": null,
            "order": null,
            "overflow": null,
            "overflow_x": null,
            "overflow_y": null,
            "padding": null,
            "right": null,
            "top": null,
            "visibility": null,
            "width": null
          }
        },
        "9281271aa6714e46bb6fe07b5b7fa3f1": {
          "model_module": "@jupyter-widgets/controls",
          "model_module_version": "1.5.0",
          "model_name": "HTMLModel",
          "state": {
            "_dom_classes": [],
            "_model_module": "@jupyter-widgets/controls",
            "_model_module_version": "1.5.0",
            "_model_name": "HTMLModel",
            "_view_count": null,
            "_view_module": "@jupyter-widgets/controls",
            "_view_module_version": "1.5.0",
            "_view_name": "HTMLView",
            "description": "",
            "description_tooltip": null,
            "layout": "IPY_MODEL_a3429e996e52491e9e58a093c87beef7",
            "placeholder": "​",
            "style": "IPY_MODEL_1e2c670eb2f349a8905ff79dae03d39f",
            "value": "Downloading pytorch_model.bin: 100%"
          }
        },
        "92a6ca4b76fb4de09d76ff19beae2505": {
          "model_module": "@jupyter-widgets/base",
          "model_module_version": "1.2.0",
          "model_name": "LayoutModel",
          "state": {
            "_model_module": "@jupyter-widgets/base",
            "_model_module_version": "1.2.0",
            "_model_name": "LayoutModel",
            "_view_count": null,
            "_view_module": "@jupyter-widgets/base",
            "_view_module_version": "1.2.0",
            "_view_name": "LayoutView",
            "align_content": null,
            "align_items": null,
            "align_self": null,
            "border": null,
            "bottom": null,
            "display": null,
            "flex": null,
            "flex_flow": null,
            "grid_area": null,
            "grid_auto_columns": null,
            "grid_auto_flow": null,
            "grid_auto_rows": null,
            "grid_column": null,
            "grid_gap": null,
            "grid_row": null,
            "grid_template_areas": null,
            "grid_template_columns": null,
            "grid_template_rows": null,
            "height": null,
            "justify_content": null,
            "justify_items": null,
            "left": null,
            "margin": null,
            "max_height": null,
            "max_width": null,
            "min_height": null,
            "min_width": null,
            "object_fit": null,
            "object_position": null,
            "order": null,
            "overflow": null,
            "overflow_x": null,
            "overflow_y": null,
            "padding": null,
            "right": null,
            "top": null,
            "visibility": null,
            "width": null
          }
        },
        "9366a8c723c144d6aa51f26058d063cf": {
          "model_module": "@jupyter-widgets/controls",
          "model_module_version": "1.5.0",
          "model_name": "ProgressStyleModel",
          "state": {
            "_model_module": "@jupyter-widgets/controls",
            "_model_module_version": "1.5.0",
            "_model_name": "ProgressStyleModel",
            "_view_count": null,
            "_view_module": "@jupyter-widgets/base",
            "_view_module_version": "1.2.0",
            "_view_name": "StyleView",
            "bar_color": null,
            "description_width": ""
          }
        },
        "937698ceed164420bb0de1df9ebbd54b": {
          "model_module": "@jupyter-widgets/base",
          "model_module_version": "1.2.0",
          "model_name": "LayoutModel",
          "state": {
            "_model_module": "@jupyter-widgets/base",
            "_model_module_version": "1.2.0",
            "_model_name": "LayoutModel",
            "_view_count": null,
            "_view_module": "@jupyter-widgets/base",
            "_view_module_version": "1.2.0",
            "_view_name": "LayoutView",
            "align_content": null,
            "align_items": null,
            "align_self": null,
            "border": null,
            "bottom": null,
            "display": null,
            "flex": null,
            "flex_flow": null,
            "grid_area": null,
            "grid_auto_columns": null,
            "grid_auto_flow": null,
            "grid_auto_rows": null,
            "grid_column": null,
            "grid_gap": null,
            "grid_row": null,
            "grid_template_areas": null,
            "grid_template_columns": null,
            "grid_template_rows": null,
            "height": null,
            "justify_content": null,
            "justify_items": null,
            "left": null,
            "margin": null,
            "max_height": null,
            "max_width": null,
            "min_height": null,
            "min_width": null,
            "object_fit": null,
            "object_position": null,
            "order": null,
            "overflow": null,
            "overflow_x": null,
            "overflow_y": null,
            "padding": null,
            "right": null,
            "top": null,
            "visibility": null,
            "width": null
          }
        },
        "a046efcf17004b4c8287438c7c824684": {
          "model_module": "@jupyter-widgets/base",
          "model_module_version": "1.2.0",
          "model_name": "LayoutModel",
          "state": {
            "_model_module": "@jupyter-widgets/base",
            "_model_module_version": "1.2.0",
            "_model_name": "LayoutModel",
            "_view_count": null,
            "_view_module": "@jupyter-widgets/base",
            "_view_module_version": "1.2.0",
            "_view_name": "LayoutView",
            "align_content": null,
            "align_items": null,
            "align_self": null,
            "border": null,
            "bottom": null,
            "display": null,
            "flex": null,
            "flex_flow": null,
            "grid_area": null,
            "grid_auto_columns": null,
            "grid_auto_flow": null,
            "grid_auto_rows": null,
            "grid_column": null,
            "grid_gap": null,
            "grid_row": null,
            "grid_template_areas": null,
            "grid_template_columns": null,
            "grid_template_rows": null,
            "height": null,
            "justify_content": null,
            "justify_items": null,
            "left": null,
            "margin": null,
            "max_height": null,
            "max_width": null,
            "min_height": null,
            "min_width": null,
            "object_fit": null,
            "object_position": null,
            "order": null,
            "overflow": null,
            "overflow_x": null,
            "overflow_y": null,
            "padding": null,
            "right": null,
            "top": null,
            "visibility": null,
            "width": null
          }
        },
        "a04c1fec58164204af244a404492c72d": {
          "model_module": "@jupyter-widgets/controls",
          "model_module_version": "1.5.0",
          "model_name": "HBoxModel",
          "state": {
            "_dom_classes": [],
            "_model_module": "@jupyter-widgets/controls",
            "_model_module_version": "1.5.0",
            "_model_name": "HBoxModel",
            "_view_count": null,
            "_view_module": "@jupyter-widgets/controls",
            "_view_module_version": "1.5.0",
            "_view_name": "HBoxView",
            "box_style": "",
            "children": [
              "IPY_MODEL_9281271aa6714e46bb6fe07b5b7fa3f1",
              "IPY_MODEL_76d729e1d5f746d78f493222a78e19e7",
              "IPY_MODEL_5e94edff9fe340388b51a3a19c3faf7b"
            ],
            "layout": "IPY_MODEL_ff29df27c9454c03905cdf35cc2a9748"
          }
        },
        "a0758ea430764ea0a02ce72c23836330": {
          "model_module": "@jupyter-widgets/controls",
          "model_module_version": "1.5.0",
          "model_name": "DescriptionStyleModel",
          "state": {
            "_model_module": "@jupyter-widgets/controls",
            "_model_module_version": "1.5.0",
            "_model_name": "DescriptionStyleModel",
            "_view_count": null,
            "_view_module": "@jupyter-widgets/base",
            "_view_module_version": "1.2.0",
            "_view_name": "StyleView",
            "description_width": ""
          }
        },
        "a1ebac54a32f4ea39ee94f24120295de": {
          "model_module": "@jupyter-widgets/controls",
          "model_module_version": "1.5.0",
          "model_name": "HTMLModel",
          "state": {
            "_dom_classes": [],
            "_model_module": "@jupyter-widgets/controls",
            "_model_module_version": "1.5.0",
            "_model_name": "HTMLModel",
            "_view_count": null,
            "_view_module": "@jupyter-widgets/controls",
            "_view_module_version": "1.5.0",
            "_view_name": "HTMLView",
            "description": "",
            "description_tooltip": null,
            "layout": "IPY_MODEL_d6531d3f201743698a090ab947b00976",
            "placeholder": "​",
            "style": "IPY_MODEL_bd9d0f1e637f4f3080d425545ca83f41",
            "value": " 213k/213k [00:00&lt;00:00, 1.50MB/s]"
          }
        },
        "a3429e996e52491e9e58a093c87beef7": {
          "model_module": "@jupyter-widgets/base",
          "model_module_version": "1.2.0",
          "model_name": "LayoutModel",
          "state": {
            "_model_module": "@jupyter-widgets/base",
            "_model_module_version": "1.2.0",
            "_model_name": "LayoutModel",
            "_view_count": null,
            "_view_module": "@jupyter-widgets/base",
            "_view_module_version": "1.2.0",
            "_view_name": "LayoutView",
            "align_content": null,
            "align_items": null,
            "align_self": null,
            "border": null,
            "bottom": null,
            "display": null,
            "flex": null,
            "flex_flow": null,
            "grid_area": null,
            "grid_auto_columns": null,
            "grid_auto_flow": null,
            "grid_auto_rows": null,
            "grid_column": null,
            "grid_gap": null,
            "grid_row": null,
            "grid_template_areas": null,
            "grid_template_columns": null,
            "grid_template_rows": null,
            "height": null,
            "justify_content": null,
            "justify_items": null,
            "left": null,
            "margin": null,
            "max_height": null,
            "max_width": null,
            "min_height": null,
            "min_width": null,
            "object_fit": null,
            "object_position": null,
            "order": null,
            "overflow": null,
            "overflow_x": null,
            "overflow_y": null,
            "padding": null,
            "right": null,
            "top": null,
            "visibility": null,
            "width": null
          }
        },
        "a4d03b1edc944559991ba8a45fd7b81c": {
          "model_module": "@jupyter-widgets/base",
          "model_module_version": "1.2.0",
          "model_name": "LayoutModel",
          "state": {
            "_model_module": "@jupyter-widgets/base",
            "_model_module_version": "1.2.0",
            "_model_name": "LayoutModel",
            "_view_count": null,
            "_view_module": "@jupyter-widgets/base",
            "_view_module_version": "1.2.0",
            "_view_name": "LayoutView",
            "align_content": null,
            "align_items": null,
            "align_self": null,
            "border": null,
            "bottom": null,
            "display": null,
            "flex": null,
            "flex_flow": null,
            "grid_area": null,
            "grid_auto_columns": null,
            "grid_auto_flow": null,
            "grid_auto_rows": null,
            "grid_column": null,
            "grid_gap": null,
            "grid_row": null,
            "grid_template_areas": null,
            "grid_template_columns": null,
            "grid_template_rows": null,
            "height": null,
            "justify_content": null,
            "justify_items": null,
            "left": null,
            "margin": null,
            "max_height": null,
            "max_width": null,
            "min_height": null,
            "min_width": null,
            "object_fit": null,
            "object_position": null,
            "order": null,
            "overflow": null,
            "overflow_x": null,
            "overflow_y": null,
            "padding": null,
            "right": null,
            "top": null,
            "visibility": null,
            "width": null
          }
        },
        "a93a958f1430468f8babd6181cc3d4a0": {
          "model_module": "@jupyter-widgets/controls",
          "model_module_version": "1.5.0",
          "model_name": "DescriptionStyleModel",
          "state": {
            "_model_module": "@jupyter-widgets/controls",
            "_model_module_version": "1.5.0",
            "_model_name": "DescriptionStyleModel",
            "_view_count": null,
            "_view_module": "@jupyter-widgets/base",
            "_view_module_version": "1.2.0",
            "_view_name": "StyleView",
            "description_width": ""
          }
        },
        "a9b390009ad9407a8b71f77669a285b8": {
          "model_module": "@jupyter-widgets/base",
          "model_module_version": "1.2.0",
          "model_name": "LayoutModel",
          "state": {
            "_model_module": "@jupyter-widgets/base",
            "_model_module_version": "1.2.0",
            "_model_name": "LayoutModel",
            "_view_count": null,
            "_view_module": "@jupyter-widgets/base",
            "_view_module_version": "1.2.0",
            "_view_name": "LayoutView",
            "align_content": null,
            "align_items": null,
            "align_self": null,
            "border": null,
            "bottom": null,
            "display": null,
            "flex": null,
            "flex_flow": null,
            "grid_area": null,
            "grid_auto_columns": null,
            "grid_auto_flow": null,
            "grid_auto_rows": null,
            "grid_column": null,
            "grid_gap": null,
            "grid_row": null,
            "grid_template_areas": null,
            "grid_template_columns": null,
            "grid_template_rows": null,
            "height": null,
            "justify_content": null,
            "justify_items": null,
            "left": null,
            "margin": null,
            "max_height": null,
            "max_width": null,
            "min_height": null,
            "min_width": null,
            "object_fit": null,
            "object_position": null,
            "order": null,
            "overflow": null,
            "overflow_x": null,
            "overflow_y": null,
            "padding": null,
            "right": null,
            "top": null,
            "visibility": null,
            "width": null
          }
        },
        "b4d658d7e6724b1bb2c93da3564f234f": {
          "model_module": "@jupyter-widgets/controls",
          "model_module_version": "1.5.0",
          "model_name": "HTMLModel",
          "state": {
            "_dom_classes": [],
            "_model_module": "@jupyter-widgets/controls",
            "_model_module_version": "1.5.0",
            "_model_name": "HTMLModel",
            "_view_count": null,
            "_view_module": "@jupyter-widgets/controls",
            "_view_module_version": "1.5.0",
            "_view_name": "HTMLView",
            "description": "",
            "description_tooltip": null,
            "layout": "IPY_MODEL_2f17a1f33f704bd79fd1e8dea86ab5cf",
            "placeholder": "​",
            "style": "IPY_MODEL_a93a958f1430468f8babd6181cc3d4a0",
            "value": "Downloading (…)cial_tokens_map.json: 100%"
          }
        },
        "b6a73a3b6e09468d885121ffa619665d": {
          "model_module": "@jupyter-widgets/controls",
          "model_module_version": "1.5.0",
          "model_name": "FloatProgressModel",
          "state": {
            "_dom_classes": [],
            "_model_module": "@jupyter-widgets/controls",
            "_model_module_version": "1.5.0",
            "_model_name": "FloatProgressModel",
            "_view_count": null,
            "_view_module": "@jupyter-widgets/controls",
            "_view_module_version": "1.5.0",
            "_view_name": "ProgressView",
            "bar_style": "success",
            "description": "",
            "description_tooltip": null,
            "layout": "IPY_MODEL_d180970d86f649259a562cca65d5ada3",
            "max": 49,
            "min": 0,
            "orientation": "horizontal",
            "style": "IPY_MODEL_c7b398d0b8af483aa7e6204e4115274a",
            "value": 49
          }
        },
        "b708d49389994c7880ca6fc6ea864198": {
          "model_module": "@jupyter-widgets/base",
          "model_module_version": "1.2.0",
          "model_name": "LayoutModel",
          "state": {
            "_model_module": "@jupyter-widgets/base",
            "_model_module_version": "1.2.0",
            "_model_name": "LayoutModel",
            "_view_count": null,
            "_view_module": "@jupyter-widgets/base",
            "_view_module_version": "1.2.0",
            "_view_name": "LayoutView",
            "align_content": null,
            "align_items": null,
            "align_self": null,
            "border": null,
            "bottom": null,
            "display": null,
            "flex": null,
            "flex_flow": null,
            "grid_area": null,
            "grid_auto_columns": null,
            "grid_auto_flow": null,
            "grid_auto_rows": null,
            "grid_column": null,
            "grid_gap": null,
            "grid_row": null,
            "grid_template_areas": null,
            "grid_template_columns": null,
            "grid_template_rows": null,
            "height": null,
            "justify_content": null,
            "justify_items": null,
            "left": null,
            "margin": null,
            "max_height": null,
            "max_width": null,
            "min_height": null,
            "min_width": null,
            "object_fit": null,
            "object_position": null,
            "order": null,
            "overflow": null,
            "overflow_x": null,
            "overflow_y": null,
            "padding": null,
            "right": null,
            "top": null,
            "visibility": null,
            "width": null
          }
        },
        "b88bb57388be416ead02b4cf730cfa43": {
          "model_module": "@jupyter-widgets/controls",
          "model_module_version": "1.5.0",
          "model_name": "ProgressStyleModel",
          "state": {
            "_model_module": "@jupyter-widgets/controls",
            "_model_module_version": "1.5.0",
            "_model_name": "ProgressStyleModel",
            "_view_count": null,
            "_view_module": "@jupyter-widgets/base",
            "_view_module_version": "1.2.0",
            "_view_name": "StyleView",
            "bar_color": null,
            "description_width": ""
          }
        },
        "bd9d0f1e637f4f3080d425545ca83f41": {
          "model_module": "@jupyter-widgets/controls",
          "model_module_version": "1.5.0",
          "model_name": "DescriptionStyleModel",
          "state": {
            "_model_module": "@jupyter-widgets/controls",
            "_model_module_version": "1.5.0",
            "_model_name": "DescriptionStyleModel",
            "_view_count": null,
            "_view_module": "@jupyter-widgets/base",
            "_view_module_version": "1.2.0",
            "_view_name": "StyleView",
            "description_width": ""
          }
        },
        "be7e2fe496954da094c9af5f991bb93a": {
          "model_module": "@jupyter-widgets/controls",
          "model_module_version": "1.5.0",
          "model_name": "HBoxModel",
          "state": {
            "_dom_classes": [],
            "_model_module": "@jupyter-widgets/controls",
            "_model_module_version": "1.5.0",
            "_model_name": "HBoxModel",
            "_view_count": null,
            "_view_module": "@jupyter-widgets/controls",
            "_view_module_version": "1.5.0",
            "_view_name": "HBoxView",
            "box_style": "",
            "children": [
              "IPY_MODEL_dc13edd0de2f4d2f8f1cc3d0aeda9762",
              "IPY_MODEL_b6a73a3b6e09468d885121ffa619665d",
              "IPY_MODEL_43c3ed63465b4c7ca26e0cf310bee959"
            ],
            "layout": "IPY_MODEL_31e9f7b6c28b4568aae301eab5cbdc95"
          }
        },
        "c7b398d0b8af483aa7e6204e4115274a": {
          "model_module": "@jupyter-widgets/controls",
          "model_module_version": "1.5.0",
          "model_name": "ProgressStyleModel",
          "state": {
            "_model_module": "@jupyter-widgets/controls",
            "_model_module_version": "1.5.0",
            "_model_name": "ProgressStyleModel",
            "_view_count": null,
            "_view_module": "@jupyter-widgets/base",
            "_view_module_version": "1.2.0",
            "_view_name": "StyleView",
            "bar_color": null,
            "description_width": ""
          }
        },
        "d180970d86f649259a562cca65d5ada3": {
          "model_module": "@jupyter-widgets/base",
          "model_module_version": "1.2.0",
          "model_name": "LayoutModel",
          "state": {
            "_model_module": "@jupyter-widgets/base",
            "_model_module_version": "1.2.0",
            "_model_name": "LayoutModel",
            "_view_count": null,
            "_view_module": "@jupyter-widgets/base",
            "_view_module_version": "1.2.0",
            "_view_name": "LayoutView",
            "align_content": null,
            "align_items": null,
            "align_self": null,
            "border": null,
            "bottom": null,
            "display": null,
            "flex": null,
            "flex_flow": null,
            "grid_area": null,
            "grid_auto_columns": null,
            "grid_auto_flow": null,
            "grid_auto_rows": null,
            "grid_column": null,
            "grid_gap": null,
            "grid_row": null,
            "grid_template_areas": null,
            "grid_template_columns": null,
            "grid_template_rows": null,
            "height": null,
            "justify_content": null,
            "justify_items": null,
            "left": null,
            "margin": null,
            "max_height": null,
            "max_width": null,
            "min_height": null,
            "min_width": null,
            "object_fit": null,
            "object_position": null,
            "order": null,
            "overflow": null,
            "overflow_x": null,
            "overflow_y": null,
            "padding": null,
            "right": null,
            "top": null,
            "visibility": null,
            "width": null
          }
        },
        "d6531d3f201743698a090ab947b00976": {
          "model_module": "@jupyter-widgets/base",
          "model_module_version": "1.2.0",
          "model_name": "LayoutModel",
          "state": {
            "_model_module": "@jupyter-widgets/base",
            "_model_module_version": "1.2.0",
            "_model_name": "LayoutModel",
            "_view_count": null,
            "_view_module": "@jupyter-widgets/base",
            "_view_module_version": "1.2.0",
            "_view_name": "LayoutView",
            "align_content": null,
            "align_items": null,
            "align_self": null,
            "border": null,
            "bottom": null,
            "display": null,
            "flex": null,
            "flex_flow": null,
            "grid_area": null,
            "grid_auto_columns": null,
            "grid_auto_flow": null,
            "grid_auto_rows": null,
            "grid_column": null,
            "grid_gap": null,
            "grid_row": null,
            "grid_template_areas": null,
            "grid_template_columns": null,
            "grid_template_rows": null,
            "height": null,
            "justify_content": null,
            "justify_items": null,
            "left": null,
            "margin": null,
            "max_height": null,
            "max_width": null,
            "min_height": null,
            "min_width": null,
            "object_fit": null,
            "object_position": null,
            "order": null,
            "overflow": null,
            "overflow_x": null,
            "overflow_y": null,
            "padding": null,
            "right": null,
            "top": null,
            "visibility": null,
            "width": null
          }
        },
        "dc13edd0de2f4d2f8f1cc3d0aeda9762": {
          "model_module": "@jupyter-widgets/controls",
          "model_module_version": "1.5.0",
          "model_name": "HTMLModel",
          "state": {
            "_dom_classes": [],
            "_model_module": "@jupyter-widgets/controls",
            "_model_module_version": "1.5.0",
            "_model_name": "HTMLModel",
            "_view_count": null,
            "_view_module": "@jupyter-widgets/controls",
            "_view_module_version": "1.5.0",
            "_view_name": "HTMLView",
            "description": "",
            "description_tooltip": null,
            "layout": "IPY_MODEL_92a6ca4b76fb4de09d76ff19beae2505",
            "placeholder": "​",
            "style": "IPY_MODEL_66d7fa7f6453428e9b7c7c12e684571e",
            "value": "Downloading (…)okenizer_config.json: 100%"
          }
        },
        "def61e28302341e8b0e8cb0285980594": {
          "model_module": "@jupyter-widgets/controls",
          "model_module_version": "1.5.0",
          "model_name": "ProgressStyleModel",
          "state": {
            "_model_module": "@jupyter-widgets/controls",
            "_model_module_version": "1.5.0",
            "_model_name": "ProgressStyleModel",
            "_view_count": null,
            "_view_module": "@jupyter-widgets/base",
            "_view_module_version": "1.2.0",
            "_view_name": "StyleView",
            "bar_color": null,
            "description_width": ""
          }
        },
        "e184def02ae9449b9f7ea94cc5c4f8d6": {
          "model_module": "@jupyter-widgets/base",
          "model_module_version": "1.2.0",
          "model_name": "LayoutModel",
          "state": {
            "_model_module": "@jupyter-widgets/base",
            "_model_module_version": "1.2.0",
            "_model_name": "LayoutModel",
            "_view_count": null,
            "_view_module": "@jupyter-widgets/base",
            "_view_module_version": "1.2.0",
            "_view_name": "LayoutView",
            "align_content": null,
            "align_items": null,
            "align_self": null,
            "border": null,
            "bottom": null,
            "display": null,
            "flex": null,
            "flex_flow": null,
            "grid_area": null,
            "grid_auto_columns": null,
            "grid_auto_flow": null,
            "grid_auto_rows": null,
            "grid_column": null,
            "grid_gap": null,
            "grid_row": null,
            "grid_template_areas": null,
            "grid_template_columns": null,
            "grid_template_rows": null,
            "height": null,
            "justify_content": null,
            "justify_items": null,
            "left": null,
            "margin": null,
            "max_height": null,
            "max_width": null,
            "min_height": null,
            "min_width": null,
            "object_fit": null,
            "object_position": null,
            "order": null,
            "overflow": null,
            "overflow_x": null,
            "overflow_y": null,
            "padding": null,
            "right": null,
            "top": null,
            "visibility": null,
            "width": null
          }
        },
        "f66f54508c29402c945b4b2829bd81a0": {
          "model_module": "@jupyter-widgets/controls",
          "model_module_version": "1.5.0",
          "model_name": "HBoxModel",
          "state": {
            "_dom_classes": [],
            "_model_module": "@jupyter-widgets/controls",
            "_model_module_version": "1.5.0",
            "_model_name": "HBoxModel",
            "_view_count": null,
            "_view_module": "@jupyter-widgets/controls",
            "_view_module_version": "1.5.0",
            "_view_name": "HBoxView",
            "box_style": "",
            "children": [
              "IPY_MODEL_85bc6a661a8743308e44dcde5aa707c2",
              "IPY_MODEL_5afd10ee00e1407a990e7d2ec9608a63",
              "IPY_MODEL_fe3a8bc8186743dbb54eabfe1f3fc6c4"
            ],
            "layout": "IPY_MODEL_937698ceed164420bb0de1df9ebbd54b"
          }
        },
        "fd53544415414267baea9c2ebd952390": {
          "model_module": "@jupyter-widgets/controls",
          "model_module_version": "1.5.0",
          "model_name": "DescriptionStyleModel",
          "state": {
            "_model_module": "@jupyter-widgets/controls",
            "_model_module_version": "1.5.0",
            "_model_name": "DescriptionStyleModel",
            "_view_count": null,
            "_view_module": "@jupyter-widgets/base",
            "_view_module_version": "1.2.0",
            "_view_name": "StyleView",
            "description_width": ""
          }
        },
        "fe3a8bc8186743dbb54eabfe1f3fc6c4": {
          "model_module": "@jupyter-widgets/controls",
          "model_module_version": "1.5.0",
          "model_name": "HTMLModel",
          "state": {
            "_dom_classes": [],
            "_model_module": "@jupyter-widgets/controls",
            "_model_module_version": "1.5.0",
            "_model_name": "HTMLModel",
            "_view_count": null,
            "_view_module": "@jupyter-widgets/controls",
            "_view_module_version": "1.5.0",
            "_view_name": "HTMLView",
            "description": "",
            "description_tooltip": null,
            "layout": "IPY_MODEL_899bfa9002c3416e909da1f8feeb99d9",
            "placeholder": "​",
            "style": "IPY_MODEL_5ce2a7eb45ce4f3696fd1b0be422e379",
            "value": " 462/462 [00:00&lt;00:00, 9.59kB/s]"
          }
        },
        "ff29df27c9454c03905cdf35cc2a9748": {
          "model_module": "@jupyter-widgets/base",
          "model_module_version": "1.2.0",
          "model_name": "LayoutModel",
          "state": {
            "_model_module": "@jupyter-widgets/base",
            "_model_module_version": "1.2.0",
            "_model_name": "LayoutModel",
            "_view_count": null,
            "_view_module": "@jupyter-widgets/base",
            "_view_module_version": "1.2.0",
            "_view_name": "LayoutView",
            "align_content": null,
            "align_items": null,
            "align_self": null,
            "border": null,
            "bottom": null,
            "display": null,
            "flex": null,
            "flex_flow": null,
            "grid_area": null,
            "grid_auto_columns": null,
            "grid_auto_flow": null,
            "grid_auto_rows": null,
            "grid_column": null,
            "grid_gap": null,
            "grid_row": null,
            "grid_template_areas": null,
            "grid_template_columns": null,
            "grid_template_rows": null,
            "height": null,
            "justify_content": null,
            "justify_items": null,
            "left": null,
            "margin": null,
            "max_height": null,
            "max_width": null,
            "min_height": null,
            "min_width": null,
            "object_fit": null,
            "object_position": null,
            "order": null,
            "overflow": null,
            "overflow_x": null,
            "overflow_y": null,
            "padding": null,
            "right": null,
            "top": null,
            "visibility": null,
            "width": null
          }
        },
        "d7b3f3c1f63644dc8fd4ce5a2203d0aa": {
          "model_module": "@jupyter-widgets/controls",
          "model_name": "HBoxModel",
          "model_module_version": "1.5.0",
          "state": {
            "_dom_classes": [],
            "_model_module": "@jupyter-widgets/controls",
            "_model_module_version": "1.5.0",
            "_model_name": "HBoxModel",
            "_view_count": null,
            "_view_module": "@jupyter-widgets/controls",
            "_view_module_version": "1.5.0",
            "_view_name": "HBoxView",
            "box_style": "",
            "children": [
              "IPY_MODEL_27ec560f06284224a395848cd16206d0",
              "IPY_MODEL_414ae28d741b4ca599ff9c82e7fb1952",
              "IPY_MODEL_9ffcdc4ba9c8472686c6f2100f07bf6c"
            ],
            "layout": "IPY_MODEL_4c87d1c3635648a493516111a81903ce"
          }
        },
        "27ec560f06284224a395848cd16206d0": {
          "model_module": "@jupyter-widgets/controls",
          "model_name": "HTMLModel",
          "model_module_version": "1.5.0",
          "state": {
            "_dom_classes": [],
            "_model_module": "@jupyter-widgets/controls",
            "_model_module_version": "1.5.0",
            "_model_name": "HTMLModel",
            "_view_count": null,
            "_view_module": "@jupyter-widgets/controls",
            "_view_module_version": "1.5.0",
            "_view_name": "HTMLView",
            "description": "",
            "description_tooltip": null,
            "layout": "IPY_MODEL_0e068aa9e54b46238cdcb3e0860ea501",
            "placeholder": "​",
            "style": "IPY_MODEL_d4baf429ee824910954515af3e2ed180",
            "value": "Downloading (…)lve/main/config.json: 100%"
          }
        },
        "414ae28d741b4ca599ff9c82e7fb1952": {
          "model_module": "@jupyter-widgets/controls",
          "model_name": "FloatProgressModel",
          "model_module_version": "1.5.0",
          "state": {
            "_dom_classes": [],
            "_model_module": "@jupyter-widgets/controls",
            "_model_module_version": "1.5.0",
            "_model_name": "FloatProgressModel",
            "_view_count": null,
            "_view_module": "@jupyter-widgets/controls",
            "_view_module_version": "1.5.0",
            "_view_name": "ProgressView",
            "bar_style": "success",
            "description": "",
            "description_tooltip": null,
            "layout": "IPY_MODEL_b73be38af51343b5b60eae328acff7c7",
            "max": 313,
            "min": 0,
            "orientation": "horizontal",
            "style": "IPY_MODEL_23118605eb2d47418899c2bf8b41644a",
            "value": 313
          }
        },
        "9ffcdc4ba9c8472686c6f2100f07bf6c": {
          "model_module": "@jupyter-widgets/controls",
          "model_name": "HTMLModel",
          "model_module_version": "1.5.0",
          "state": {
            "_dom_classes": [],
            "_model_module": "@jupyter-widgets/controls",
            "_model_module_version": "1.5.0",
            "_model_name": "HTMLModel",
            "_view_count": null,
            "_view_module": "@jupyter-widgets/controls",
            "_view_module_version": "1.5.0",
            "_view_name": "HTMLView",
            "description": "",
            "description_tooltip": null,
            "layout": "IPY_MODEL_ddd057e1a0f14340902ffdc041585dfa",
            "placeholder": "​",
            "style": "IPY_MODEL_8bf72db8b9ff46efa4891f6173de8283",
            "value": " 313/313 [00:00&lt;00:00, 2.58kB/s]"
          }
        },
        "4c87d1c3635648a493516111a81903ce": {
          "model_module": "@jupyter-widgets/base",
          "model_name": "LayoutModel",
          "model_module_version": "1.2.0",
          "state": {
            "_model_module": "@jupyter-widgets/base",
            "_model_module_version": "1.2.0",
            "_model_name": "LayoutModel",
            "_view_count": null,
            "_view_module": "@jupyter-widgets/base",
            "_view_module_version": "1.2.0",
            "_view_name": "LayoutView",
            "align_content": null,
            "align_items": null,
            "align_self": null,
            "border": null,
            "bottom": null,
            "display": null,
            "flex": null,
            "flex_flow": null,
            "grid_area": null,
            "grid_auto_columns": null,
            "grid_auto_flow": null,
            "grid_auto_rows": null,
            "grid_column": null,
            "grid_gap": null,
            "grid_row": null,
            "grid_template_areas": null,
            "grid_template_columns": null,
            "grid_template_rows": null,
            "height": null,
            "justify_content": null,
            "justify_items": null,
            "left": null,
            "margin": null,
            "max_height": null,
            "max_width": null,
            "min_height": null,
            "min_width": null,
            "object_fit": null,
            "object_position": null,
            "order": null,
            "overflow": null,
            "overflow_x": null,
            "overflow_y": null,
            "padding": null,
            "right": null,
            "top": null,
            "visibility": null,
            "width": null
          }
        },
        "0e068aa9e54b46238cdcb3e0860ea501": {
          "model_module": "@jupyter-widgets/base",
          "model_name": "LayoutModel",
          "model_module_version": "1.2.0",
          "state": {
            "_model_module": "@jupyter-widgets/base",
            "_model_module_version": "1.2.0",
            "_model_name": "LayoutModel",
            "_view_count": null,
            "_view_module": "@jupyter-widgets/base",
            "_view_module_version": "1.2.0",
            "_view_name": "LayoutView",
            "align_content": null,
            "align_items": null,
            "align_self": null,
            "border": null,
            "bottom": null,
            "display": null,
            "flex": null,
            "flex_flow": null,
            "grid_area": null,
            "grid_auto_columns": null,
            "grid_auto_flow": null,
            "grid_auto_rows": null,
            "grid_column": null,
            "grid_gap": null,
            "grid_row": null,
            "grid_template_areas": null,
            "grid_template_columns": null,
            "grid_template_rows": null,
            "height": null,
            "justify_content": null,
            "justify_items": null,
            "left": null,
            "margin": null,
            "max_height": null,
            "max_width": null,
            "min_height": null,
            "min_width": null,
            "object_fit": null,
            "object_position": null,
            "order": null,
            "overflow": null,
            "overflow_x": null,
            "overflow_y": null,
            "padding": null,
            "right": null,
            "top": null,
            "visibility": null,
            "width": null
          }
        },
        "d4baf429ee824910954515af3e2ed180": {
          "model_module": "@jupyter-widgets/controls",
          "model_name": "DescriptionStyleModel",
          "model_module_version": "1.5.0",
          "state": {
            "_model_module": "@jupyter-widgets/controls",
            "_model_module_version": "1.5.0",
            "_model_name": "DescriptionStyleModel",
            "_view_count": null,
            "_view_module": "@jupyter-widgets/base",
            "_view_module_version": "1.2.0",
            "_view_name": "StyleView",
            "description_width": ""
          }
        },
        "b73be38af51343b5b60eae328acff7c7": {
          "model_module": "@jupyter-widgets/base",
          "model_name": "LayoutModel",
          "model_module_version": "1.2.0",
          "state": {
            "_model_module": "@jupyter-widgets/base",
            "_model_module_version": "1.2.0",
            "_model_name": "LayoutModel",
            "_view_count": null,
            "_view_module": "@jupyter-widgets/base",
            "_view_module_version": "1.2.0",
            "_view_name": "LayoutView",
            "align_content": null,
            "align_items": null,
            "align_self": null,
            "border": null,
            "bottom": null,
            "display": null,
            "flex": null,
            "flex_flow": null,
            "grid_area": null,
            "grid_auto_columns": null,
            "grid_auto_flow": null,
            "grid_auto_rows": null,
            "grid_column": null,
            "grid_gap": null,
            "grid_row": null,
            "grid_template_areas": null,
            "grid_template_columns": null,
            "grid_template_rows": null,
            "height": null,
            "justify_content": null,
            "justify_items": null,
            "left": null,
            "margin": null,
            "max_height": null,
            "max_width": null,
            "min_height": null,
            "min_width": null,
            "object_fit": null,
            "object_position": null,
            "order": null,
            "overflow": null,
            "overflow_x": null,
            "overflow_y": null,
            "padding": null,
            "right": null,
            "top": null,
            "visibility": null,
            "width": null
          }
        },
        "23118605eb2d47418899c2bf8b41644a": {
          "model_module": "@jupyter-widgets/controls",
          "model_name": "ProgressStyleModel",
          "model_module_version": "1.5.0",
          "state": {
            "_model_module": "@jupyter-widgets/controls",
            "_model_module_version": "1.5.0",
            "_model_name": "ProgressStyleModel",
            "_view_count": null,
            "_view_module": "@jupyter-widgets/base",
            "_view_module_version": "1.2.0",
            "_view_name": "StyleView",
            "bar_color": null,
            "description_width": ""
          }
        },
        "ddd057e1a0f14340902ffdc041585dfa": {
          "model_module": "@jupyter-widgets/base",
          "model_name": "LayoutModel",
          "model_module_version": "1.2.0",
          "state": {
            "_model_module": "@jupyter-widgets/base",
            "_model_module_version": "1.2.0",
            "_model_name": "LayoutModel",
            "_view_count": null,
            "_view_module": "@jupyter-widgets/base",
            "_view_module_version": "1.2.0",
            "_view_name": "LayoutView",
            "align_content": null,
            "align_items": null,
            "align_self": null,
            "border": null,
            "bottom": null,
            "display": null,
            "flex": null,
            "flex_flow": null,
            "grid_area": null,
            "grid_auto_columns": null,
            "grid_auto_flow": null,
            "grid_auto_rows": null,
            "grid_column": null,
            "grid_gap": null,
            "grid_row": null,
            "grid_template_areas": null,
            "grid_template_columns": null,
            "grid_template_rows": null,
            "height": null,
            "justify_content": null,
            "justify_items": null,
            "left": null,
            "margin": null,
            "max_height": null,
            "max_width": null,
            "min_height": null,
            "min_width": null,
            "object_fit": null,
            "object_position": null,
            "order": null,
            "overflow": null,
            "overflow_x": null,
            "overflow_y": null,
            "padding": null,
            "right": null,
            "top": null,
            "visibility": null,
            "width": null
          }
        },
        "8bf72db8b9ff46efa4891f6173de8283": {
          "model_module": "@jupyter-widgets/controls",
          "model_name": "DescriptionStyleModel",
          "model_module_version": "1.5.0",
          "state": {
            "_model_module": "@jupyter-widgets/controls",
            "_model_module_version": "1.5.0",
            "_model_name": "DescriptionStyleModel",
            "_view_count": null,
            "_view_module": "@jupyter-widgets/base",
            "_view_module_version": "1.2.0",
            "_view_name": "StyleView",
            "description_width": ""
          }
        },
        "d7d891754697482dbbf0450bf46bee0b": {
          "model_module": "@jupyter-widgets/controls",
          "model_name": "HBoxModel",
          "model_module_version": "1.5.0",
          "state": {
            "_dom_classes": [],
            "_model_module": "@jupyter-widgets/controls",
            "_model_module_version": "1.5.0",
            "_model_name": "HBoxModel",
            "_view_count": null,
            "_view_module": "@jupyter-widgets/controls",
            "_view_module_version": "1.5.0",
            "_view_name": "HBoxView",
            "box_style": "",
            "children": [
              "IPY_MODEL_8403af0e8a3442d782f0382b16f02441",
              "IPY_MODEL_1fd47aea0e2c45e4961611a5f2f7f5c5",
              "IPY_MODEL_118526d5428d4ba58896a9b79fcb4be1"
            ],
            "layout": "IPY_MODEL_f40a85d1e21348528fd9b97e47230bd3"
          }
        },
        "8403af0e8a3442d782f0382b16f02441": {
          "model_module": "@jupyter-widgets/controls",
          "model_name": "HTMLModel",
          "model_module_version": "1.5.0",
          "state": {
            "_dom_classes": [],
            "_model_module": "@jupyter-widgets/controls",
            "_model_module_version": "1.5.0",
            "_model_name": "HTMLModel",
            "_view_count": null,
            "_view_module": "@jupyter-widgets/controls",
            "_view_module_version": "1.5.0",
            "_view_name": "HTMLView",
            "description": "",
            "description_tooltip": null,
            "layout": "IPY_MODEL_b39a644eb3a343da8d07a87c43747ea4",
            "placeholder": "​",
            "style": "IPY_MODEL_e72b7eca11e84a6cb57f2b2c2ca27acf",
            "value": "Downloading (…)solve/main/vocab.txt: 100%"
          }
        },
        "1fd47aea0e2c45e4961611a5f2f7f5c5": {
          "model_module": "@jupyter-widgets/controls",
          "model_name": "FloatProgressModel",
          "model_module_version": "1.5.0",
          "state": {
            "_dom_classes": [],
            "_model_module": "@jupyter-widgets/controls",
            "_model_module_version": "1.5.0",
            "_model_name": "FloatProgressModel",
            "_view_count": null,
            "_view_module": "@jupyter-widgets/controls",
            "_view_module_version": "1.5.0",
            "_view_name": "ProgressView",
            "bar_style": "success",
            "description": "",
            "description_tooltip": null,
            "layout": "IPY_MODEL_83e705974347478fbcee601b8e7fff96",
            "max": 231508,
            "min": 0,
            "orientation": "horizontal",
            "style": "IPY_MODEL_3a7ed26c08e049c69f1308f5d402e48a",
            "value": 231508
          }
        },
        "118526d5428d4ba58896a9b79fcb4be1": {
          "model_module": "@jupyter-widgets/controls",
          "model_name": "HTMLModel",
          "model_module_version": "1.5.0",
          "state": {
            "_dom_classes": [],
            "_model_module": "@jupyter-widgets/controls",
            "_model_module_version": "1.5.0",
            "_model_name": "HTMLModel",
            "_view_count": null,
            "_view_module": "@jupyter-widgets/controls",
            "_view_module_version": "1.5.0",
            "_view_name": "HTMLView",
            "description": "",
            "description_tooltip": null,
            "layout": "IPY_MODEL_fe590d4a5b1b492f8d1bbc0ba9e6edeb",
            "placeholder": "​",
            "style": "IPY_MODEL_0a3661382b234c11bfa67126e77f65f4",
            "value": " 232k/232k [00:00&lt;00:00, 675kB/s]"
          }
        },
        "f40a85d1e21348528fd9b97e47230bd3": {
          "model_module": "@jupyter-widgets/base",
          "model_name": "LayoutModel",
          "model_module_version": "1.2.0",
          "state": {
            "_model_module": "@jupyter-widgets/base",
            "_model_module_version": "1.2.0",
            "_model_name": "LayoutModel",
            "_view_count": null,
            "_view_module": "@jupyter-widgets/base",
            "_view_module_version": "1.2.0",
            "_view_name": "LayoutView",
            "align_content": null,
            "align_items": null,
            "align_self": null,
            "border": null,
            "bottom": null,
            "display": null,
            "flex": null,
            "flex_flow": null,
            "grid_area": null,
            "grid_auto_columns": null,
            "grid_auto_flow": null,
            "grid_auto_rows": null,
            "grid_column": null,
            "grid_gap": null,
            "grid_row": null,
            "grid_template_areas": null,
            "grid_template_columns": null,
            "grid_template_rows": null,
            "height": null,
            "justify_content": null,
            "justify_items": null,
            "left": null,
            "margin": null,
            "max_height": null,
            "max_width": null,
            "min_height": null,
            "min_width": null,
            "object_fit": null,
            "object_position": null,
            "order": null,
            "overflow": null,
            "overflow_x": null,
            "overflow_y": null,
            "padding": null,
            "right": null,
            "top": null,
            "visibility": null,
            "width": null
          }
        },
        "b39a644eb3a343da8d07a87c43747ea4": {
          "model_module": "@jupyter-widgets/base",
          "model_name": "LayoutModel",
          "model_module_version": "1.2.0",
          "state": {
            "_model_module": "@jupyter-widgets/base",
            "_model_module_version": "1.2.0",
            "_model_name": "LayoutModel",
            "_view_count": null,
            "_view_module": "@jupyter-widgets/base",
            "_view_module_version": "1.2.0",
            "_view_name": "LayoutView",
            "align_content": null,
            "align_items": null,
            "align_self": null,
            "border": null,
            "bottom": null,
            "display": null,
            "flex": null,
            "flex_flow": null,
            "grid_area": null,
            "grid_auto_columns": null,
            "grid_auto_flow": null,
            "grid_auto_rows": null,
            "grid_column": null,
            "grid_gap": null,
            "grid_row": null,
            "grid_template_areas": null,
            "grid_template_columns": null,
            "grid_template_rows": null,
            "height": null,
            "justify_content": null,
            "justify_items": null,
            "left": null,
            "margin": null,
            "max_height": null,
            "max_width": null,
            "min_height": null,
            "min_width": null,
            "object_fit": null,
            "object_position": null,
            "order": null,
            "overflow": null,
            "overflow_x": null,
            "overflow_y": null,
            "padding": null,
            "right": null,
            "top": null,
            "visibility": null,
            "width": null
          }
        },
        "e72b7eca11e84a6cb57f2b2c2ca27acf": {
          "model_module": "@jupyter-widgets/controls",
          "model_name": "DescriptionStyleModel",
          "model_module_version": "1.5.0",
          "state": {
            "_model_module": "@jupyter-widgets/controls",
            "_model_module_version": "1.5.0",
            "_model_name": "DescriptionStyleModel",
            "_view_count": null,
            "_view_module": "@jupyter-widgets/base",
            "_view_module_version": "1.2.0",
            "_view_name": "StyleView",
            "description_width": ""
          }
        },
        "83e705974347478fbcee601b8e7fff96": {
          "model_module": "@jupyter-widgets/base",
          "model_name": "LayoutModel",
          "model_module_version": "1.2.0",
          "state": {
            "_model_module": "@jupyter-widgets/base",
            "_model_module_version": "1.2.0",
            "_model_name": "LayoutModel",
            "_view_count": null,
            "_view_module": "@jupyter-widgets/base",
            "_view_module_version": "1.2.0",
            "_view_name": "LayoutView",
            "align_content": null,
            "align_items": null,
            "align_self": null,
            "border": null,
            "bottom": null,
            "display": null,
            "flex": null,
            "flex_flow": null,
            "grid_area": null,
            "grid_auto_columns": null,
            "grid_auto_flow": null,
            "grid_auto_rows": null,
            "grid_column": null,
            "grid_gap": null,
            "grid_row": null,
            "grid_template_areas": null,
            "grid_template_columns": null,
            "grid_template_rows": null,
            "height": null,
            "justify_content": null,
            "justify_items": null,
            "left": null,
            "margin": null,
            "max_height": null,
            "max_width": null,
            "min_height": null,
            "min_width": null,
            "object_fit": null,
            "object_position": null,
            "order": null,
            "overflow": null,
            "overflow_x": null,
            "overflow_y": null,
            "padding": null,
            "right": null,
            "top": null,
            "visibility": null,
            "width": null
          }
        },
        "3a7ed26c08e049c69f1308f5d402e48a": {
          "model_module": "@jupyter-widgets/controls",
          "model_name": "ProgressStyleModel",
          "model_module_version": "1.5.0",
          "state": {
            "_model_module": "@jupyter-widgets/controls",
            "_model_module_version": "1.5.0",
            "_model_name": "ProgressStyleModel",
            "_view_count": null,
            "_view_module": "@jupyter-widgets/base",
            "_view_module_version": "1.2.0",
            "_view_name": "StyleView",
            "bar_color": null,
            "description_width": ""
          }
        },
        "fe590d4a5b1b492f8d1bbc0ba9e6edeb": {
          "model_module": "@jupyter-widgets/base",
          "model_name": "LayoutModel",
          "model_module_version": "1.2.0",
          "state": {
            "_model_module": "@jupyter-widgets/base",
            "_model_module_version": "1.2.0",
            "_model_name": "LayoutModel",
            "_view_count": null,
            "_view_module": "@jupyter-widgets/base",
            "_view_module_version": "1.2.0",
            "_view_name": "LayoutView",
            "align_content": null,
            "align_items": null,
            "align_self": null,
            "border": null,
            "bottom": null,
            "display": null,
            "flex": null,
            "flex_flow": null,
            "grid_area": null,
            "grid_auto_columns": null,
            "grid_auto_flow": null,
            "grid_auto_rows": null,
            "grid_column": null,
            "grid_gap": null,
            "grid_row": null,
            "grid_template_areas": null,
            "grid_template_columns": null,
            "grid_template_rows": null,
            "height": null,
            "justify_content": null,
            "justify_items": null,
            "left": null,
            "margin": null,
            "max_height": null,
            "max_width": null,
            "min_height": null,
            "min_width": null,
            "object_fit": null,
            "object_position": null,
            "order": null,
            "overflow": null,
            "overflow_x": null,
            "overflow_y": null,
            "padding": null,
            "right": null,
            "top": null,
            "visibility": null,
            "width": null
          }
        },
        "0a3661382b234c11bfa67126e77f65f4": {
          "model_module": "@jupyter-widgets/controls",
          "model_name": "DescriptionStyleModel",
          "model_module_version": "1.5.0",
          "state": {
            "_model_module": "@jupyter-widgets/controls",
            "_model_module_version": "1.5.0",
            "_model_name": "DescriptionStyleModel",
            "_view_count": null,
            "_view_module": "@jupyter-widgets/base",
            "_view_module_version": "1.2.0",
            "_view_name": "StyleView",
            "description_width": ""
          }
        },
        "d2838b49b775432a95cc5a50e3c92184": {
          "model_module": "@jupyter-widgets/controls",
          "model_name": "HBoxModel",
          "model_module_version": "1.5.0",
          "state": {
            "_dom_classes": [],
            "_model_module": "@jupyter-widgets/controls",
            "_model_module_version": "1.5.0",
            "_model_name": "HBoxModel",
            "_view_count": null,
            "_view_module": "@jupyter-widgets/controls",
            "_view_module_version": "1.5.0",
            "_view_name": "HBoxView",
            "box_style": "",
            "children": [
              "IPY_MODEL_e3c5c46c5fa449ce8ae984e476cf9b1a",
              "IPY_MODEL_64201870270d4ad4bd39c8a9e4e6fd42",
              "IPY_MODEL_aa0fb8a727004951bc831179fcfaf83c"
            ],
            "layout": "IPY_MODEL_75ee0c10713642cbb8955ccb913fa611"
          }
        },
        "e3c5c46c5fa449ce8ae984e476cf9b1a": {
          "model_module": "@jupyter-widgets/controls",
          "model_name": "HTMLModel",
          "model_module_version": "1.5.0",
          "state": {
            "_dom_classes": [],
            "_model_module": "@jupyter-widgets/controls",
            "_model_module_version": "1.5.0",
            "_model_name": "HTMLModel",
            "_view_count": null,
            "_view_module": "@jupyter-widgets/controls",
            "_view_module_version": "1.5.0",
            "_view_name": "HTMLView",
            "description": "",
            "description_tooltip": null,
            "layout": "IPY_MODEL_4530841376f04c418117c87db0a4032b",
            "placeholder": "​",
            "style": "IPY_MODEL_01ffd50284b643b4a8d08ebd91ffdf80",
            "value": "Downloading pytorch_model.bin: 100%"
          }
        },
        "64201870270d4ad4bd39c8a9e4e6fd42": {
          "model_module": "@jupyter-widgets/controls",
          "model_name": "FloatProgressModel",
          "model_module_version": "1.5.0",
          "state": {
            "_dom_classes": [],
            "_model_module": "@jupyter-widgets/controls",
            "_model_module_version": "1.5.0",
            "_model_name": "FloatProgressModel",
            "_view_count": null,
            "_view_module": "@jupyter-widgets/controls",
            "_view_module_version": "1.5.0",
            "_view_name": "ProgressView",
            "bar_style": "success",
            "description": "",
            "description_tooltip": null,
            "layout": "IPY_MODEL_50bb7f619a0646be97f06967c2fe8335",
            "max": 440512266,
            "min": 0,
            "orientation": "horizontal",
            "style": "IPY_MODEL_b99294e35c0a41d490ccdfe4766c8f2c",
            "value": 440512266
          }
        },
        "aa0fb8a727004951bc831179fcfaf83c": {
          "model_module": "@jupyter-widgets/controls",
          "model_name": "HTMLModel",
          "model_module_version": "1.5.0",
          "state": {
            "_dom_classes": [],
            "_model_module": "@jupyter-widgets/controls",
            "_model_module_version": "1.5.0",
            "_model_name": "HTMLModel",
            "_view_count": null,
            "_view_module": "@jupyter-widgets/controls",
            "_view_module_version": "1.5.0",
            "_view_name": "HTMLView",
            "description": "",
            "description_tooltip": null,
            "layout": "IPY_MODEL_c48ced827c0749a580f911df206d1df1",
            "placeholder": "​",
            "style": "IPY_MODEL_20c30a1e80334ac89de3ed4de822bbf7",
            "value": " 441M/441M [00:20&lt;00:00, 21.6MB/s]"
          }
        },
        "75ee0c10713642cbb8955ccb913fa611": {
          "model_module": "@jupyter-widgets/base",
          "model_name": "LayoutModel",
          "model_module_version": "1.2.0",
          "state": {
            "_model_module": "@jupyter-widgets/base",
            "_model_module_version": "1.2.0",
            "_model_name": "LayoutModel",
            "_view_count": null,
            "_view_module": "@jupyter-widgets/base",
            "_view_module_version": "1.2.0",
            "_view_name": "LayoutView",
            "align_content": null,
            "align_items": null,
            "align_self": null,
            "border": null,
            "bottom": null,
            "display": null,
            "flex": null,
            "flex_flow": null,
            "grid_area": null,
            "grid_auto_columns": null,
            "grid_auto_flow": null,
            "grid_auto_rows": null,
            "grid_column": null,
            "grid_gap": null,
            "grid_row": null,
            "grid_template_areas": null,
            "grid_template_columns": null,
            "grid_template_rows": null,
            "height": null,
            "justify_content": null,
            "justify_items": null,
            "left": null,
            "margin": null,
            "max_height": null,
            "max_width": null,
            "min_height": null,
            "min_width": null,
            "object_fit": null,
            "object_position": null,
            "order": null,
            "overflow": null,
            "overflow_x": null,
            "overflow_y": null,
            "padding": null,
            "right": null,
            "top": null,
            "visibility": null,
            "width": null
          }
        },
        "4530841376f04c418117c87db0a4032b": {
          "model_module": "@jupyter-widgets/base",
          "model_name": "LayoutModel",
          "model_module_version": "1.2.0",
          "state": {
            "_model_module": "@jupyter-widgets/base",
            "_model_module_version": "1.2.0",
            "_model_name": "LayoutModel",
            "_view_count": null,
            "_view_module": "@jupyter-widgets/base",
            "_view_module_version": "1.2.0",
            "_view_name": "LayoutView",
            "align_content": null,
            "align_items": null,
            "align_self": null,
            "border": null,
            "bottom": null,
            "display": null,
            "flex": null,
            "flex_flow": null,
            "grid_area": null,
            "grid_auto_columns": null,
            "grid_auto_flow": null,
            "grid_auto_rows": null,
            "grid_column": null,
            "grid_gap": null,
            "grid_row": null,
            "grid_template_areas": null,
            "grid_template_columns": null,
            "grid_template_rows": null,
            "height": null,
            "justify_content": null,
            "justify_items": null,
            "left": null,
            "margin": null,
            "max_height": null,
            "max_width": null,
            "min_height": null,
            "min_width": null,
            "object_fit": null,
            "object_position": null,
            "order": null,
            "overflow": null,
            "overflow_x": null,
            "overflow_y": null,
            "padding": null,
            "right": null,
            "top": null,
            "visibility": null,
            "width": null
          }
        },
        "01ffd50284b643b4a8d08ebd91ffdf80": {
          "model_module": "@jupyter-widgets/controls",
          "model_name": "DescriptionStyleModel",
          "model_module_version": "1.5.0",
          "state": {
            "_model_module": "@jupyter-widgets/controls",
            "_model_module_version": "1.5.0",
            "_model_name": "DescriptionStyleModel",
            "_view_count": null,
            "_view_module": "@jupyter-widgets/base",
            "_view_module_version": "1.2.0",
            "_view_name": "StyleView",
            "description_width": ""
          }
        },
        "50bb7f619a0646be97f06967c2fe8335": {
          "model_module": "@jupyter-widgets/base",
          "model_name": "LayoutModel",
          "model_module_version": "1.2.0",
          "state": {
            "_model_module": "@jupyter-widgets/base",
            "_model_module_version": "1.2.0",
            "_model_name": "LayoutModel",
            "_view_count": null,
            "_view_module": "@jupyter-widgets/base",
            "_view_module_version": "1.2.0",
            "_view_name": "LayoutView",
            "align_content": null,
            "align_items": null,
            "align_self": null,
            "border": null,
            "bottom": null,
            "display": null,
            "flex": null,
            "flex_flow": null,
            "grid_area": null,
            "grid_auto_columns": null,
            "grid_auto_flow": null,
            "grid_auto_rows": null,
            "grid_column": null,
            "grid_gap": null,
            "grid_row": null,
            "grid_template_areas": null,
            "grid_template_columns": null,
            "grid_template_rows": null,
            "height": null,
            "justify_content": null,
            "justify_items": null,
            "left": null,
            "margin": null,
            "max_height": null,
            "max_width": null,
            "min_height": null,
            "min_width": null,
            "object_fit": null,
            "object_position": null,
            "order": null,
            "overflow": null,
            "overflow_x": null,
            "overflow_y": null,
            "padding": null,
            "right": null,
            "top": null,
            "visibility": null,
            "width": null
          }
        },
        "b99294e35c0a41d490ccdfe4766c8f2c": {
          "model_module": "@jupyter-widgets/controls",
          "model_name": "ProgressStyleModel",
          "model_module_version": "1.5.0",
          "state": {
            "_model_module": "@jupyter-widgets/controls",
            "_model_module_version": "1.5.0",
            "_model_name": "ProgressStyleModel",
            "_view_count": null,
            "_view_module": "@jupyter-widgets/base",
            "_view_module_version": "1.2.0",
            "_view_name": "StyleView",
            "bar_color": null,
            "description_width": ""
          }
        },
        "c48ced827c0749a580f911df206d1df1": {
          "model_module": "@jupyter-widgets/base",
          "model_name": "LayoutModel",
          "model_module_version": "1.2.0",
          "state": {
            "_model_module": "@jupyter-widgets/base",
            "_model_module_version": "1.2.0",
            "_model_name": "LayoutModel",
            "_view_count": null,
            "_view_module": "@jupyter-widgets/base",
            "_view_module_version": "1.2.0",
            "_view_name": "LayoutView",
            "align_content": null,
            "align_items": null,
            "align_self": null,
            "border": null,
            "bottom": null,
            "display": null,
            "flex": null,
            "flex_flow": null,
            "grid_area": null,
            "grid_auto_columns": null,
            "grid_auto_flow": null,
            "grid_auto_rows": null,
            "grid_column": null,
            "grid_gap": null,
            "grid_row": null,
            "grid_template_areas": null,
            "grid_template_columns": null,
            "grid_template_rows": null,
            "height": null,
            "justify_content": null,
            "justify_items": null,
            "left": null,
            "margin": null,
            "max_height": null,
            "max_width": null,
            "min_height": null,
            "min_width": null,
            "object_fit": null,
            "object_position": null,
            "order": null,
            "overflow": null,
            "overflow_x": null,
            "overflow_y": null,
            "padding": null,
            "right": null,
            "top": null,
            "visibility": null,
            "width": null
          }
        },
        "20c30a1e80334ac89de3ed4de822bbf7": {
          "model_module": "@jupyter-widgets/controls",
          "model_name": "DescriptionStyleModel",
          "model_module_version": "1.5.0",
          "state": {
            "_model_module": "@jupyter-widgets/controls",
            "_model_module_version": "1.5.0",
            "_model_name": "DescriptionStyleModel",
            "_view_count": null,
            "_view_module": "@jupyter-widgets/base",
            "_view_module_version": "1.2.0",
            "_view_name": "StyleView",
            "description_width": ""
          }
        }
      }
    }
  },
  "nbformat": 4,
  "nbformat_minor": 5
}